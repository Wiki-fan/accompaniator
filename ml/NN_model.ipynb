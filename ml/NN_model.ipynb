{
 "cells": [
  {
   "cell_type": "code",
   "execution_count": 209,
   "metadata": {
    "scrolled": true
   },
   "outputs": [],
   "source": [
    "import pickle\n",
    "import ml.structures\n",
    "import ml.dataset.corpus as corpus\n",
    "import numpy as np\n",
    "\n",
    "import pickle\n",
    "import numpy as np\n",
    "\n",
    "%matplotlib inline\n",
    "import matplotlib.pyplot as plt\n",
    "\n",
    "from sklearn.cross_validation import train_test_split\n",
    "from sklearn.linear_model import LogisticRegressionCV\n",
    "from keras.models import load_model\n",
    "\n",
    "from keras.layers import LSTM\n",
    "from keras.layers import Embedding\n",
    "from keras.optimizers import RMSprop\n",
    "\n",
    "\n",
    "from keras.models import Sequential\n",
    "from keras.layers.core import Dense, Activation\n",
    "from keras.utils import np_utils\n",
    "from keras.engine.topology import Input\n",
    "\n",
    "from sklearn.metrics import accuracy_score\n",
    "from keras.layers import concatenate, Merge\n",
    "from keras.layers.merge import Concatenate\n",
    "\n",
    "import keras\n",
    "from keras.utils import to_categorical\n",
    "\n",
    "from matplotlib import pyplot as plt\n",
    "from IPython.display import clear_output"
   ]
  },
  {
   "cell_type": "code",
   "execution_count": 210,
   "metadata": {},
   "outputs": [],
   "source": [
    "def make_16(chord):\n",
    "    c = 16 / (128 / chord.duration)\n",
    "    array = np.array([note.number for note in chord.notes])\n",
    "    if len(array) == 0:\n",
    "        array = [0]\n",
    "    if c >= 1:\n",
    "        return 1, np.tile(array, (int(c), 1))\n",
    "    else:\n",
    "        return 0, [0]"
   ]
  },
  {
   "cell_type": "code",
   "execution_count": 211,
   "metadata": {},
   "outputs": [],
   "source": [
    "def cut_song(song, notes, chords):\n",
    "    chords_track = []\n",
    "    notes_track = np.array([])\n",
    "    flag = 0\n",
    "    for note in song.tracks[0].chords:\n",
    "        if (make_16(note)[0] == 0):\n",
    "            flag = 1\n",
    "        notes_track = np.append(notes_track, make_16(note)[1])\n",
    "    for chord in song.tracks[1].chords:\n",
    "        if (make_16(chord)[0] == 0):\n",
    "            flag = 1\n",
    "        chords_track.append(make_16(chord)[1])\n",
    "    if flag == 1:\n",
    "        return 0, notes, chords\n",
    "    return 1, notes_track, chords_track"
   ]
  },
  {
   "cell_type": "code",
   "execution_count": 212,
   "metadata": {},
   "outputs": [],
   "source": [
    "def norm_array(X, size):\n",
    "    for j in range(len(X)):\n",
    "        X[j] = np.unique(np.array(X[j]))\n",
    "        array = np.zeros(size-len(X[j])) - 1\n",
    "        X[j] = np.append(X[j], array)\n",
    "    X = np.array(X)\n",
    "    return X"
   ]
  },
  {
   "cell_type": "code",
   "execution_count": 213,
   "metadata": {},
   "outputs": [],
   "source": [
    "def create_X_Y(chords):\n",
    "    real_chords = []\n",
    "    y = []\n",
    "    for i, subchord in enumerate(chords):\n",
    "        if i != len(chords) - 1:\n",
    "            for ssubchord in subchord:\n",
    "                real_chords.append(ssubchord)\n",
    "            size = len(subchord)\n",
    "            for j in range(size):\n",
    "                y.append(chords[i+1][-1])\n",
    "    return real_chords, y"
   ]
  },
  {
   "cell_type": "code",
   "execution_count": 214,
   "metadata": {},
   "outputs": [],
   "source": [
    "def notes_to_np(notes):\n",
    "    for i in range(len(notes)):\n",
    "        notes[i] = np.array(notes[i])\n",
    "    notes = np.array(notes)"
   ]
  },
  {
   "cell_type": "code",
   "execution_count": 215,
   "metadata": {},
   "outputs": [],
   "source": [
    "def create_unique_chords(X, unique_chords):\n",
    "    for x in X:\n",
    "        unique_chords = np.append(unique_chords, np.array(x))\n",
    "    return unique_chords"
   ]
  },
  {
   "cell_type": "code",
   "execution_count": 216,
   "metadata": {},
   "outputs": [],
   "source": [
    "def create_coded(X):\n",
    "    return np.zeros(len(X))\n"
   ]
  },
  {
   "cell_type": "code",
   "execution_count": 217,
   "metadata": {},
   "outputs": [],
   "source": [
    "def encode(X, coded_X):\n",
    "    for j, k in enumerate(X):\n",
    "        for i, unique_chord in enumerate(unique_chords):\n",
    "            if np.array_equal(k, unique_chord):\n",
    "                coded_X[j] = i"
   ]
  },
  {
   "cell_type": "code",
   "execution_count": 243,
   "metadata": {},
   "outputs": [
    {
     "name": "stderr",
     "output_type": "stream",
     "text": [
      "/usr/local/lib/python3.5/dist-packages/ipykernel_launcher.py:8: UserWarning: The `Merge` layer is deprecated and will be removed after 08/2017. Use instead layers from `keras.layers.merge`, e.g. `add`, `concatenate`, etc.\n",
      "  \n"
     ]
    },
    {
     "name": "stdout",
     "output_type": "stream",
     "text": [
      "Epoch 1/1\n",
      "446/446 [==============================] - 7s 17ms/step - loss: 4.4161 - acc: 0.1726\n",
      "Epoch 1/1\n",
      "286/286 [==============================] - 3s 12ms/step - loss: 2.5189 - acc: 0.1364\n",
      "Epoch 1/1\n",
      "90/90 [==============================] - 1s 12ms/step - loss: 2.7768 - acc: 0.2222\n",
      "Epoch 1/1\n",
      "90/90 [==============================] - 1s 12ms/step - loss: 2.4040 - acc: 0.3111\n",
      "Epoch 1/1\n",
      "94/94 [==============================] - 1s 12ms/step - loss: 9.8102 - acc: 0.0000e+00\n",
      "Epoch 1/1\n",
      "94/94 [==============================] - 1s 12ms/step - loss: 6.8517 - acc: 0.0319\n",
      "Epoch 1/1\n",
      "114/114 [==============================] - 1s 12ms/step - loss: 8.2751 - acc: 0.0000e+00\n",
      "Epoch 1/1\n",
      "94/94 [==============================] - 1s 12ms/step - loss: 6.1237 - acc: 0.0319\n",
      "Epoch 1/1\n",
      "94/94 [==============================] - 1s 12ms/step - loss: 4.2312 - acc: 0.1277\n"
     ]
    }
   ],
   "source": [
    "model_chords = Sequential()\n",
    "model_notes = Sequential()\n",
    "\n",
    "model_chords.add(Embedding(10000, 20, input_length=1, batch_input_shape=(1,1)))\n",
    "model_notes.add(Embedding(128, 20, input_length=1, batch_input_shape=(1,1)))\n",
    "\n",
    "merged_model = Sequential()\n",
    "merged = Merge([model_chords, model_notes])\n",
    "merged_model.add(merged)\n",
    "merged_model.add(LSTM(20, stateful=True))\n",
    "merged_model.add(Dense(10000, activation='softmax'))\n",
    "merged_model.compile(optimizer='adam',loss='sparse_categorical_crossentropy',metrics=['accuracy'])\n",
    "\n",
    "\n",
    "unique_chords = np.array([])\n",
    "\n",
    "with open('gtp_dataset_final.pickle', 'rb') as input_file:\n",
    "    i = 0\n",
    "    while True:\n",
    "        try:\n",
    "            i += 1\n",
    "            song = ml.structures.Song()\n",
    "            song.undump(input_file)\n",
    "            chords = []\n",
    "            notes = []\n",
    "            flag_notes_chords = cut_song(song, notes, chords)\n",
    "            if (flag_notes_chords[0] == 0) :\n",
    "                continue\n",
    "            notes = flag_notes_chords[1]\n",
    "            chords = flag_notes_chords[2]\n",
    "            X = []\n",
    "            Y = []\n",
    "            X, Y = create_X_Y(chords)\n",
    "            X = norm_array(X, 100)\n",
    "            Y = norm_array(Y, 100)\n",
    "            notes_to_np(notes)\n",
    "            unique_chords = create_unique_chords(X, unique_chords)\n",
    "            unique_chords = create_unique_chords(Y, unique_chords)\n",
    "            unique_chords = unique_chords.reshape((-1, 100))\n",
    "            unique_chords = np.unique(unique_chords, axis=0)\n",
    "            unique_chords = list(unique_chords)\n",
    "            coded_X = []\n",
    "            coded_Y = []\n",
    "            coded_X = create_coded(X)\n",
    "            coded_Y = create_coded(Y)\n",
    "            encode(X, coded_X)\n",
    "            encode(Y, coded_Y)\n",
    "            X = np.array(coded_X)\n",
    "            y = np.array(coded_Y)\n",
    "            X_notes = notes\n",
    "            X_notes = X_notes[:len(X)]\n",
    "            X = X[:len(X_notes)]\n",
    "            y = y[:len(X)]\n",
    "            if (i < 10):\n",
    "                merged_model.fit([X, X_notes], y, epochs=1, batch_size=1, verbose=1)\n",
    "                merged_model.reset_states()\n",
    "            else:\n",
    "                break\n",
    "                merged_model.predict([X, X_notes], batch_size=1, verbose=1)\n",
    "            \n",
    "            \n",
    "        except EOFError:\n",
    "            break"
   ]
  },
  {
   "cell_type": "code",
   "execution_count": 244,
   "metadata": {},
   "outputs": [
    {
     "data": {
      "text/plain": [
       "array([[ 0., -1., -1., ..., -1., -1., -1.],\n",
       "       [25., 36., 38., ..., -1., -1., -1.],\n",
       "       [25., 36., 49., ..., -1., -1., -1.],\n",
       "       ...,\n",
       "       [68., 73., -1., ..., -1., -1., -1.],\n",
       "       [69., -1., -1., ..., -1., -1., -1.],\n",
       "       [69., 74., -1., ..., -1., -1., -1.]])"
      ]
     },
     "execution_count": 244,
     "metadata": {},
     "output_type": "execute_result"
    }
   ],
   "source": [
    "import pandas as pd\n",
    "\n",
    "df = pd.DataFrame(unique_chords)\n",
    "df.to_csv(\"vocab.csv\")\n",
    "x = pd.read_csv(\"vocab.csv\")\n",
    "x = x.values.T[1:].T\n",
    "x"
   ]
  },
  {
   "cell_type": "code",
   "execution_count": 245,
   "metadata": {},
   "outputs": [],
   "source": [
    "merged_model.save(\"NN_model.h5\")"
   ]
  },
  {
   "cell_type": "code",
   "execution_count": 246,
   "metadata": {
    "scrolled": true
   },
   "outputs": [
    {
     "name": "stderr",
     "output_type": "stream",
     "text": [
      "/usr/local/lib/python3.5/dist-packages/ipykernel_launcher.py:8: UserWarning: The `Merge` layer is deprecated and will be removed after 08/2017. Use instead layers from `keras.layers.merge`, e.g. `add`, `concatenate`, etc.\n",
      "  \n"
     ]
    }
   ],
   "source": [
    "model_chords = Sequential()\n",
    "model_notes = Sequential()\n",
    "\n",
    "model_chords.add(Embedding(10000, 20, input_length=1, batch_input_shape=(1,1)))\n",
    "model_notes.add(Embedding(128, 20, input_length=1, batch_input_shape=(1,1)))\n",
    "\n",
    "model = Sequential()\n",
    "merged = Merge([model_chords, model_notes])\n",
    "model.add(merged)\n",
    "model.add(LSTM(20, stateful=True))\n",
    "model.add(Dense(10000, activation='softmax'))\n",
    "\n",
    "model.load_weights(\"NN_model.h5\")\n",
    "model.compile(optimizer='adam',loss='sparse_categorical_crossentropy',metrics=['accuracy'])"
   ]
  },
  {
   "cell_type": "code",
   "execution_count": 247,
   "metadata": {},
   "outputs": [
    {
     "name": "stdout",
     "output_type": "stream",
     "text": [
      "\r",
      "1/1 [==============================] - 2s 2s/step\n"
     ]
    },
    {
     "data": {
      "text/plain": [
       "array([32., 58., -1., -1., -1., -1., -1., -1., -1., -1., -1., -1., -1.,\n",
       "       -1., -1., -1., -1., -1., -1., -1., -1., -1., -1., -1., -1., -1.,\n",
       "       -1., -1., -1., -1., -1., -1., -1., -1., -1., -1., -1., -1., -1.,\n",
       "       -1., -1., -1., -1., -1., -1., -1., -1., -1., -1., -1., -1., -1.,\n",
       "       -1., -1., -1., -1., -1., -1., -1., -1., -1., -1., -1., -1., -1.,\n",
       "       -1., -1., -1., -1., -1., -1., -1., -1., -1., -1., -1., -1., -1.,\n",
       "       -1., -1., -1., -1., -1., -1., -1., -1., -1., -1., -1., -1., -1.,\n",
       "       -1., -1., -1., -1., -1., -1., -1., -1., -1.])"
      ]
     },
     "execution_count": 247,
     "metadata": {},
     "output_type": "execute_result"
    }
   ],
   "source": [
    "unique_chords[model.predict([np.array([1]), np.array([2.])], batch_size=1, verbose=1).argmax()]"
   ]
  },
  {
   "cell_type": "code",
   "execution_count": null,
   "metadata": {},
   "outputs": [],
   "source": []
  }
 ],
 "metadata": {
  "kernelspec": {
   "display_name": "Python 3",
   "language": "python",
   "name": "python3"
  },
  "language_info": {
   "codemirror_mode": {
    "name": "ipython",
    "version": 3
   },
   "file_extension": ".py",
   "mimetype": "text/x-python",
   "name": "python",
   "nbconvert_exporter": "python",
   "pygments_lexer": "ipython3",
   "version": "3.5.2"
  }
 },
 "nbformat": 4,
 "nbformat_minor": 2
}
