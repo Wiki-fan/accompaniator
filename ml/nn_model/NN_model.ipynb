{
 "cells": [
  {
   "cell_type": "code",
   "execution_count": 61,
   "metadata": {
    "scrolled": true
   },
   "outputs": [],
   "source": [
    "import sys\n",
    "sys.path.append('../..')\n",
    "\n",
    "import pickle\n",
    "import ml.structures\n",
    "from ml.dataset.corpus import *\n",
    "import numpy as np\n",
    "\n",
    "import pandas as pd\n",
    "\n",
    "%matplotlib inline\n",
    "import matplotlib.pyplot as plt\n",
    "\n",
    "from sklearn.cross_validation import train_test_split\n",
    "from sklearn.linear_model import LogisticRegressionCV\n",
    "from keras.models import load_model\n",
    "\n",
    "from keras.layers import LSTM\n",
    "from keras.layers import Embedding\n",
    "from keras.optimizers import RMSprop\n",
    "\n",
    "\n",
    "from keras.models import Sequential\n",
    "from keras.layers.core import Dense, Activation\n",
    "from keras.utils import np_utils\n",
    "from keras.engine.topology import Input\n",
    "\n",
    "from sklearn.metrics import accuracy_score\n",
    "from keras.layers import concatenate\n",
    "from keras.layers.merge import Concatenate\n",
    "\n",
    "import keras\n",
    "from keras.utils import to_categorical\n",
    "\n",
    "from matplotlib import pyplot as plt\n",
    "from IPython.display import clear_output\n",
    "DATASET_HOME='../../datasets/'"
   ]
  },
  {
   "cell_type": "code",
   "execution_count": 2,
   "metadata": {},
   "outputs": [],
   "source": [
    "def make_16(chord):\n",
    "    if (chord.duration > 0):\n",
    "        c = 16 / (128 / chord.duration)\n",
    "    else:\n",
    "        return 0, [0]\n",
    "    pre_array = np.array([note.number % 12 for note in chord.notes])\n",
    "    array = set()\n",
    "    for el in pre_array:\n",
    "        array.add(el)\n",
    "        if len(array) == 4:\n",
    "            break\n",
    "    array = np.array(list(array))\n",
    "    array = np.sort(array)\n",
    "    if len(array) == 0:\n",
    "        array = [0]\n",
    "    if c >= 1:\n",
    "        return 1, np.tile(array, (int(c), 1))\n",
    "    else:\n",
    "        return 0, [0]"
   ]
  },
  {
   "cell_type": "code",
   "execution_count": 3,
   "metadata": {},
   "outputs": [],
   "source": [
    "def cut_song(song, notes, chords):\n",
    "    chords_track = []\n",
    "    notes_track = np.array([])\n",
    "    flag = 0\n",
    "    for note in song.tracks[0].chords:\n",
    "        if (make_16(note)[0] == 0):\n",
    "            flag = 1\n",
    "        notes_track = np.append(notes_track, make_16(note)[1])\n",
    "    for chord in song.tracks[1].chords:\n",
    "        if (make_16(chord)[0] == 0):\n",
    "            flag = 1\n",
    "        chords_track.append(make_16(chord)[1])\n",
    "    if flag == 1:\n",
    "        return 0, notes, chords\n",
    "    return 1, notes_track, chords_track"
   ]
  },
  {
   "cell_type": "code",
   "execution_count": 4,
   "metadata": {},
   "outputs": [],
   "source": [
    "def norm_array(X, size):\n",
    "    for j in range(len(X)):\n",
    "        X[j] = np.unique(np.array(X[j]))[:size]\n",
    "        array = np.zeros(size-len(X[j])) - 1\n",
    "        X[j] = np.append(X[j], array)\n",
    "    X = np.array(X)\n",
    "    return X"
   ]
  },
  {
   "cell_type": "code",
   "execution_count": 5,
   "metadata": {},
   "outputs": [],
   "source": [
    "def create_X_Y(chords):\n",
    "    real_chords = []\n",
    "    y = []\n",
    "    for i, subchord in enumerate(chords):\n",
    "        if i != len(chords) - 1:\n",
    "            for ssubchord in subchord:\n",
    "                real_chords.append(ssubchord)\n",
    "            size = len(subchord)\n",
    "            for j in range(size):\n",
    "                y.append(chords[i+1][-1])\n",
    "    return real_chords, y"
   ]
  },
  {
   "cell_type": "code",
   "execution_count": 6,
   "metadata": {},
   "outputs": [],
   "source": [
    "def notes_to_np(notes):\n",
    "    for i in range(len(notes)):\n",
    "        notes[i] = np.array(notes[i])\n",
    "    notes = np.array(notes)"
   ]
  },
  {
   "cell_type": "code",
   "execution_count": 7,
   "metadata": {},
   "outputs": [],
   "source": [
    "def create_unique_chords(X, unique_chords):\n",
    "    for x in X:\n",
    "        unique_chords = np.append(unique_chords, np.array(x))\n",
    "    return unique_chords"
   ]
  },
  {
   "cell_type": "code",
   "execution_count": 8,
   "metadata": {},
   "outputs": [],
   "source": [
    "def create_coded(X):\n",
    "    return np.zeros(len(X))\n"
   ]
  },
  {
   "cell_type": "code",
   "execution_count": 9,
   "metadata": {},
   "outputs": [],
   "source": [
    "def encode(X, coded_X):\n",
    "    for j, k in enumerate(X):\n",
    "        for i, unique_chord in enumerate(unique_chords):\n",
    "            if np.array_equal(k, unique_chord):\n",
    "                coded_X[j] = i"
   ]
  },
  {
   "cell_type": "code",
   "execution_count": 55,
   "metadata": {},
   "outputs": [],
   "source": [
    "model_chords_input = Input((334, ), batch_shape=(1,1))\n",
    "model_chords_embedding = Embedding(794, 20, input_length=1, batch_input_shape=(1,1))(model_chords_input)\n",
    "model_notes_input = Input((334, ), batch_shape=(1,1))\n",
    "model_notes_embedding = Embedding(128, 20, input_length=1, batch_input_shape=(1,1))(model_notes_input)"
   ]
  },
  {
   "cell_type": "code",
   "execution_count": 56,
   "metadata": {},
   "outputs": [],
   "source": [
    "merged = keras.layers.concatenate([model_chords_embedding, model_notes_embedding])\n",
    "\n",
    "lstm = LSTM(20, stateful=True)(merged)\n",
    "model_dense = Dense(794, activation='softmax')(lstm)\n",
    "\n",
    "merged_model = keras.Model(inputs=[model_chords_input, model_notes_input], outputs=model_dense)\n",
    "merged_model.compile(optimizer='adam',loss='sparse_categorical_crossentropy',metrics=['accuracy'])"
   ]
  },
  {
   "cell_type": "code",
   "execution_count": 57,
   "metadata": {},
   "outputs": [],
   "source": [
    "# model_chords = Sequential()\n",
    "# model_notes = Sequential()\n",
    "\n",
    "# model_chords.add(Embedding(794, 20, input_length=1, batch_input_shape=(1,1)))\n",
    "# model_notes.add(Embedding(128, 20, input_length=1, batch_input_shape=(1,1)))"
   ]
  },
  {
   "cell_type": "code",
   "execution_count": 58,
   "metadata": {},
   "outputs": [],
   "source": [
    "# merged_model = Sequential()\n",
    "# merged_model.add(keras.layers.InputLayer(input_tensor=keras.layers.concatenate([model_chords.output, model_notes.output])))\n",
    "# merged_model.add(LSTM(20, stateful=True))\n",
    "# merged_model.add(Dense(794, activation='softmax'))\n",
    "# merged_model.compile(optimizer='adam',loss='sparse_categorical_crossentropy',metrics=['accuracy'])"
   ]
  },
  {
   "cell_type": "code",
   "execution_count": 63,
   "metadata": {},
   "outputs": [
    {
     "data": {
      "application/vnd.jupyter.widget-view+json": {
       "model_id": "7c2a68d08e8c48d6a8efdab3131d6a5b",
       "version_major": 2,
       "version_minor": 0
      },
      "text/plain": [
       "HBox(children=(IntProgress(value=1, bar_style='info', max=1), HTML(value='')))"
      ]
     },
     "metadata": {},
     "output_type": "display_data"
    },
    {
     "name": "stdout",
     "output_type": "stream",
     "text": [
      "\n"
     ]
    }
   ],
   "source": [
    "corpus = SongCorpus()\n",
    "corpus.load_from_file(DATASET_HOME+'simple/simple_dataset_SimplifyChordsMapper.pickle')"
   ]
  },
  {
   "cell_type": "code",
   "execution_count": 65,
   "metadata": {},
   "outputs": [
    {
     "data": {
      "application/vnd.jupyter.widget-view+json": {
       "model_id": "1c9ed0d518f14e979fc926a000ace129",
       "version_major": 2,
       "version_minor": 0
      },
      "text/plain": [
       "HBox(children=(IntProgress(value=0, max=6291), HTML(value='')))"
      ]
     },
     "metadata": {},
     "output_type": "display_data"
    },
    {
     "name": "stdout",
     "output_type": "stream",
     "text": [
      "\n"
     ]
    }
   ],
   "source": [
    "allX = []\n",
    "allY = []\n",
    "for song in tqdm.tqdm_notebook(corpus.songs):\n",
    "    chords = []\n",
    "    notes = []\n",
    "    flag_notes_chords = cut_song(song, notes, chords)\n",
    "    if (flag_notes_chords[0] == 0) :\n",
    "        continue\n",
    "    notes = flag_notes_chords[1]\n",
    "    chords = flag_notes_chords[2]\n",
    "    X = []\n",
    "    Y = []\n",
    "    X, Y = create_X_Y(chords)\n",
    "    X = norm_array(X, 4)\n",
    "    Y = norm_array(Y, 4)\n",
    "    notes_to_np(notes)\n",
    "    unique_chords = create_unique_chords(X, unique_chords)\n",
    "    unique_chords = create_unique_chords(Y, unique_chords)\n",
    "    unique_chords = unique_chords.reshape((-1, 4))\n",
    "    unique_chords = np.unique(unique_chords, axis=0)\n",
    "    unique_chords = list(unique_chords)\n",
    "    coded_X = []\n",
    "    coded_Y = []\n",
    "    coded_X = create_coded(X)\n",
    "    coded_Y = create_coded(Y)\n",
    "    encode(X, coded_X)\n",
    "    encode(Y, coded_Y)\n",
    "    X = np.array(coded_X)\n",
    "    y = np.array(coded_Y)\n",
    "    X_notes = notes\n",
    "    X_notes = X_notes[:len(X)]\n",
    "    X = X[:len(X_notes)]\n",
    "    y = y[:len(X)]\n",
    "    allX.append([X, X_notes])\n",
    "    allY.append(y)"
   ]
  },
  {
   "cell_type": "code",
   "execution_count": 66,
   "metadata": {},
   "outputs": [],
   "source": [
    "from sklearn.model_selection import train_test_split\n",
    "X_train, X_test, y_train, y_test = train_test_split(allX, allY)"
   ]
  },
  {
   "cell_type": "code",
   "execution_count": null,
   "metadata": {},
   "outputs": [],
   "source": [
    "all_len = 0\n",
    "acc = 0\n",
    "for x, y in zip(X_train, y_train):\n",
    "    merged_model.fit(x, y, epochs=1, batch_size=1, verbose=1)\n",
    "    acc += merged_model.evaluate(x, y, batch_size=1)[1] * len(y)\n",
    "    all_len += len(y)\n",
    "    print(\"current_accuracy: \", acc / all_len)\n",
    "    merged_model.reset_states()"
   ]
  },
  {
   "cell_type": "code",
   "execution_count": null,
   "metadata": {},
   "outputs": [],
   "source": [
    "y_pred = []\n",
    "for x, y in zip(X_test, y_test):\n",
    "    y_pred.append(merged_model.predict(x, batch_size=1, verbose=1).argmax(axis=1))"
   ]
  },
  {
   "cell_type": "code",
   "execution_count": null,
   "metadata": {},
   "outputs": [],
   "source": []
  },
  {
   "cell_type": "code",
   "execution_count": 73,
   "metadata": {},
   "outputs": [],
   "source": [
    "y_real = y_test"
   ]
  },
  {
   "cell_type": "code",
   "execution_count": 74,
   "metadata": {},
   "outputs": [
    {
     "name": "stdout",
     "output_type": "stream",
     "text": [
      "test_accuracy: 0.4337806301050175\n"
     ]
    }
   ],
   "source": [
    "from sklearn.metrics import accuracy_score\n",
    "\n",
    "test_acc = 0\n",
    "test_len = 0\n",
    "\n",
    "for y_r, y_p in zip(y_real, y_pred):\n",
    "    test_acc += accuracy_score(y_r, y_p) * len(y_r)\n",
    "    test_len += len(y_r)\n",
    "    \n",
    "print(\"test_accuracy:\", test_acc / test_len)"
   ]
  },
  {
   "cell_type": "code",
   "execution_count": 76,
   "metadata": {},
   "outputs": [],
   "source": [
    "df = pd.DataFrame(unique_chords)\n",
    "df.to_csv(DATASET_HOME+\"simple/vocab.csv\")"
   ]
  },
  {
   "cell_type": "code",
   "execution_count": 77,
   "metadata": {},
   "outputs": [],
   "source": [
    "x = pd.read_csv(DATASET_HOME+\"simple/vocab.csv\")\n",
    "x = x.values.T[1:].T"
   ]
  },
  {
   "cell_type": "code",
   "execution_count": 78,
   "metadata": {},
   "outputs": [
    {
     "data": {
      "text/plain": [
       "array([[-1., -1., -1., -1.],\n",
       "       [ 0., -1., -1., -1.],\n",
       "       [ 0.,  3.,  8., -1.],\n",
       "       [ 0.,  4.,  7., -1.],\n",
       "       [ 0.,  5.,  9., -1.],\n",
       "       [ 1.,  4.,  9., -1.],\n",
       "       [ 1.,  5.,  8., -1.],\n",
       "       [ 1.,  6., 10., -1.],\n",
       "       [ 2.,  5., 10., -1.],\n",
       "       [ 2.,  6.,  9., -1.],\n",
       "       [ 2.,  7., 11., -1.],\n",
       "       [ 3.,  6., 11., -1.],\n",
       "       [ 3.,  7., 10., -1.],\n",
       "       [ 4.,  8., 11., -1.]])"
      ]
     },
     "execution_count": 78,
     "metadata": {},
     "output_type": "execute_result"
    }
   ],
   "source": [
    "x"
   ]
  },
  {
   "cell_type": "code",
   "execution_count": null,
   "metadata": {},
   "outputs": [],
   "source": [
    "merged_model.save(DATASET_HOME+\"simple/NN_model.h5\")"
   ]
  }
 ],
 "metadata": {
  "kernelspec": {
   "display_name": "Python 3",
   "language": "python",
   "name": "python3"
  },
  "language_info": {
   "codemirror_mode": {
    "name": "ipython",
    "version": 3
   },
   "file_extension": ".py",
   "mimetype": "text/x-python",
   "name": "python",
   "nbconvert_exporter": "python",
   "pygments_lexer": "ipython3",
   "version": "3.6.0"
  }
 },
 "nbformat": 4,
 "nbformat_minor": 2
}
