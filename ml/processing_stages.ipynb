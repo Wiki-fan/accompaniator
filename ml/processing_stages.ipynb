{
 "cells": [
  {
   "cell_type": "code",
   "execution_count": null,
   "metadata": {},
   "outputs": [],
   "source": [
    "# fetch data here"
   ]
  },
  {
   "cell_type": "code",
   "execution_count": null,
   "metadata": {},
   "outputs": [],
   "source": [
    "# extract from archives\n",
    "# launch this cell from directory with archives\n",
    "!for f in *.zip; do 7z x -y -mmt4 $f 1>/dev/null; done"
   ]
  },
  {
   "cell_type": "code",
   "execution_count": null,
   "metadata": {},
   "outputs": [],
   "source": [
    "# split to folders by 100 files\n",
    "import sys\n",
    "import os\n",
    "\n",
    "base = ('gtps/')\n",
    "for directory in os.listdir(base):\n",
    "    if os.path.isdir(os.path.join(base, directory)):\n",
    "        print(directory)\n",
    "        os.chdir(os.path.join(base, directory))\n",
    "        os.system('ls|parallel -n100 mkdir {#}\\;mv {} {#}')"
   ]
  },
  {
   "cell_type": "code",
   "execution_count": null,
   "metadata": {},
   "outputs": [],
   "source": [
    "# make convertlists\n",
    "import tqdm\n",
    "import os\n",
    "\n",
    "\n",
    "def proccurdir():\n",
    "    with open('convertlist.txt', 'w') as outf:\n",
    "        outf.write('[\\n')\n",
    "        is_first = True\n",
    "        for root, directories, filenames in os.walk('.'):\n",
    "            #print(filename)\n",
    "            for filename in filenames:\n",
    "                if filename[-4:].lower() != '.mid' and filename[-4:].lower() != '.zip' and filename[-4:].lower() != '.txt':\n",
    "                    new_filename = filename[:-4]+'.mid'\n",
    "                    path = os.path.join(os.getcwd(), root, filename).replace(r'\"', r'\\\"')\n",
    "                    new_path = os.path.join(os.getcwd(), root, new_filename).replace(r'\"', r'\\\"')\n",
    "                    if os.path.isfile(new_path):\n",
    "                        continue\n",
    "                    if not is_first:\n",
    "                        outf.write(',')\n",
    "                    else:\n",
    "                        is_first = False\n",
    "                    outf.write('{\"in\":\"%s\", \"out\":\"%s\"}\\n'%(path, new_path))\n",
    "                    #subprocess.run([\"musescore\", path, \"-o\", new_path])\n",
    "                    #process_file(new_path)\n",
    "                    \n",
    "                else:\n",
    "                    pass\n",
    "        outf.write('\\n]\\n')\n",
    "        \n",
    "pb = tqdm.tqdm()\n",
    "\n",
    "base = ('gtps/')\n",
    "for directory in os.listdir(base):\n",
    "    if os.path.isdir(os.path.join(base, directory)):\n",
    "        pb.update(n=1)\n",
    "        print(directory)\n",
    "        for subdirectory in os.listdir(os.path.join(base, directory)):\n",
    "            if os.path.isdir(os.path.join(base, directory, subdirectory)):\n",
    "                os.chdir(os.path.join(base, directory, subdirectory))\n",
    "                #print(os.path.join(base, directory, subdirectory))\n",
    "                proccurdir()"
   ]
  },
  {
   "cell_type": "code",
   "execution_count": null,
   "metadata": {},
   "outputs": [],
   "source": [
    "# converting gtp to mid\n",
    "base = ('gtps/')\n",
    "tqdm = tqdm.tqdm_notebook()\n",
    "for directory in os.listdir(base):\n",
    "    tqdm.update(n=1)\n",
    "    if os.path.isdir(os.path.join(base, directory)):\n",
    "        print(directory)\n",
    "        for subdirectory in os.listdir(os.path.join(base, directory)):\n",
    "            if os.path.isdir(os.path.join(base, directory, subdirectory)):\n",
    "                os.chdir(os.path.join(base, directory, subdirectory))\n",
    "                #print(os.path.join(base, directory, subdirectory))\n",
    "                os.system('mscore -j convertlist.txt 2>log.txt')"
   ]
  },
  {
   "cell_type": "code",
   "execution_count": null,
   "metadata": {},
   "outputs": [],
   "source": [
    "# launch this cell from directory with midis\n",
    "!parallel --line-buffer 'cd {} && python /home/sharik/code/Innprak/accompaniator/ml/process_all.py' ::: *\n"
   ]
  }
 ],
 "metadata": {
  "kernelspec": {
   "display_name": "Python 3",
   "language": "python",
   "name": "python3"
  },
  "language_info": {
   "codemirror_mode": {
    "name": "ipython",
    "version": 3
   },
   "file_extension": ".py",
   "mimetype": "text/x-python",
   "name": "python",
   "nbconvert_exporter": "python",
   "pygments_lexer": "ipython3",
   "version": "3.6.0"
  }
 },
 "nbformat": 4,
 "nbformat_minor": 2
}
