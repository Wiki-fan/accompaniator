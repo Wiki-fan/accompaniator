{
 "cells": [
  {
   "cell_type": "code",
   "execution_count": 2,
   "metadata": {},
   "outputs": [],
   "source": [
    "import sys\n",
    "sys.path.append('..')\n",
    "\n",
    "from ml.dataset.corpus import *\n",
    "from ml.dataset.mappers_preprocess import *\n",
    "from ml.dataset.mappers_simplify import *\n",
    "from ml.dataset.pipeline import *\n",
    "from IPython.core.display import HTML, display\n",
    "\n",
    "import matplotlib.pyplot as plt\n",
    "import pandas as pd\n",
    "import pychord\n",
    "import music21\n",
    "music21.environment.set('musescoreDirectPNGPath', '/usr/bin/musescore')\n",
    "\n",
    "import matplotlib.pyplot as plt\n",
    "import numpy as np\n",
    "import pickle\n",
    "\n",
    "y = np.load(\"y_simple_my.npy\")\n",
    "X = (np.load(\"X_simple_my.npy\"))"
   ]
  },
  {
   "cell_type": "code",
   "execution_count": 3,
   "metadata": {},
   "outputs": [
    {
     "name": "stdout",
     "output_type": "stream",
     "text": [
      "(246, 56) (246,)\n"
     ]
    }
   ],
   "source": [
    "print(X.shape, y.shape)"
   ]
  },
  {
   "cell_type": "code",
   "execution_count": 4,
   "metadata": {},
   "outputs": [
    {
     "name": "stdout",
     "output_type": "stream",
     "text": [
      "(246, 56)\n",
      "(171, 56)\n",
      "['' 'A3' 'A4' 'C3' 'C4' 'D4' 'E4' 'E5' 'G4']\n",
      "9\n",
      "Features: 56\n",
      "int64 <U32\n",
      "[ True  True  True  True  True  True  True  True  True  True  True  True\n",
      "  True  True  True  True  True  True  True  True  True  True  True  True\n",
      "  True  True  True  True False False False False False False False False\n",
      " False False False False False False False False False False False False\n",
      " False False False False False False False False]\n",
      "[False False False False False False False False False False False False\n",
      " False False False False False False False False False False False False\n",
      " False False False False  True  True  True  True  True  True  True  True\n",
      "  True  True  True  True  True  True  True  True  True  True  True  True\n",
      "  True  True  True  True  True  True  True  True]\n"
     ]
    }
   ],
   "source": [
    "els, counts = np.unique(y, return_counts=True)\n",
    "# plt.scatter(range(len(els)), counts)\n",
    "# plt.show()\n",
    "# print(els, counts)\n",
    "rare = els[counts < 10]\n",
    "\n",
    "isin = np.logical_not(np.isin(y, rare))\n",
    "print(X.shape)\n",
    "X = X[isin, :]\n",
    "print(X.shape)\n",
    "y = y[isin]\n",
    "\n",
    "els, counts = np.unique(y, return_counts=True)\n",
    "# plt.scatter(range(len(els)), counts)\n",
    "# plt.show()\n",
    "print(els)\n",
    "print(len(els))\n",
    "\n",
    "feat = X.shape[1]\n",
    "print(\"Features:\", feat)\n",
    "tst = np.array([1])\n",
    "print(tst.dtype, X.dtype)\n",
    "if X.dtype == tst.dtype:\n",
    "    num_features = np.zeros(feat, dtype='bool')\n",
    "else:\n",
    "    num_features = np.array(['0' <= X[0, i][0] <= '9' for i in range(feat)])\n",
    "cat_features = np.logical_not(num_features)\n",
    "print(num_features)\n",
    "print(cat_features)"
   ]
  },
  {
   "cell_type": "code",
   "execution_count": 5,
   "metadata": {},
   "outputs": [
    {
     "name": "stdout",
     "output_type": "stream",
     "text": [
      "['E4' 'E4' 'E4' 'E4' 'E4' 'E4' 'E4' 'E4' 'E4' 'E4' 'E4' 'E4' 'A4' 'A4'\n",
      " 'A4' 'A4' 'D4' 'D4' 'D4' 'D4' 'G4' 'G4' 'G4' 'G4' 'F4' 'F4' 'F4' 'F4']\n",
      "[51 57 66 59 52 55 64 59 52 56 64 59 52 57 64 60 50 57 66 62 50 55 67 59\n",
      " 53 57 64 60]\n"
     ]
    }
   ],
   "source": [
    "# X_cat = X[:,8:16]\n",
    "# X_real = np.int_(np.hstack([X[:,:8], X[:,16:]]))\n",
    "\n",
    "X_cat = X[:, cat_features]\n",
    "X_real = np.int_(X[:, num_features])\n",
    "print(X_cat[0, :])\n",
    "print(X_real[0, :])"
   ]
  },
  {
   "cell_type": "code",
   "execution_count": 6,
   "metadata": {},
   "outputs": [
    {
     "data": {
      "text/plain": [
       "array([['E4', 'E4', 'E4', ..., 'F4', 'F4', 'F4'],\n",
       "       ['A2', '', '', ..., '', '', 'E2'],\n",
       "       ['A2', '', '', ..., '', '', 'E2'],\n",
       "       ...,\n",
       "       ['', 'D4', '', ..., 'A4', '', 'A4'],\n",
       "       ['G3', 'G3', 'B2', ..., 'G3', 'D3', 'D3'],\n",
       "       ['G2', '', '', ..., 'F3', 'F3', 'F3']], dtype='<U32')"
      ]
     },
     "execution_count": 6,
     "metadata": {},
     "output_type": "execute_result"
    }
   ],
   "source": [
    "X_cat"
   ]
  },
  {
   "cell_type": "code",
   "execution_count": 7,
   "metadata": {},
   "outputs": [
    {
     "name": "stdout",
     "output_type": "stream",
     "text": [
      "['' 'A2' 'A3' 'A4' 'A5' 'B2' 'B3' 'B4' 'Bb3' 'C#4' 'C#5' 'C3' 'C4' 'C5'\n",
      " 'D3' 'D4' 'D5' 'E2' 'E3' 'E4' 'E5' 'Eb3' 'Eb4' 'Eb5' 'F#4' 'F2' 'F3' 'F4'\n",
      " 'G#3' 'G#4' 'G2' 'G3' 'G4' 'G5']\n",
      "['' 'A2' 'A3' 'A4' 'A5' 'B2' 'B3' 'B4' 'Bb3' 'C#4' 'C#5' 'C3' 'C4' 'C5'\n",
      " 'D3' 'D4' 'D5' 'E2' 'E3' 'E4' 'E5' 'Eb3' 'Eb4' 'Eb5' 'F#4' 'F2' 'F3' 'F4'\n",
      " 'G#3' 'G#4' 'G2' 'G3' 'G4' 'G5']\n",
      "['' 'A2' 'A3' 'A4' 'A5' 'B2' 'B3' 'B4' 'Bb3' 'C#4' 'C#5' 'C3' 'C4' 'C5'\n",
      " 'D3' 'D4' 'D5' 'E2' 'E3' 'E4' 'E5' 'Eb3' 'Eb4' 'Eb5' 'F#4' 'F2' 'F3' 'F4'\n",
      " 'G#3' 'G#4' 'G2' 'G3' 'G4' 'G5']\n",
      "['' 'A2' 'A3' 'A4' 'A5' 'B2' 'B3' 'B4' 'Bb3' 'C#4' 'C#5' 'C3' 'C4' 'C5'\n",
      " 'D3' 'D4' 'D5' 'E2' 'E3' 'E4' 'E5' 'Eb3' 'Eb4' 'Eb5' 'F#4' 'F2' 'F3' 'F4'\n",
      " 'G#3' 'G#4' 'G2' 'G3' 'G4' 'G5']\n",
      "['' 'A2' 'A3' 'A4' 'A5' 'B2' 'B3' 'B4' 'Bb3' 'C#4' 'C#5' 'C3' 'C4' 'C5'\n",
      " 'D3' 'D4' 'D5' 'E2' 'E3' 'E4' 'E5' 'Eb3' 'Eb4' 'Eb5' 'F#4' 'F2' 'F3' 'F4'\n",
      " 'G#3' 'G#4' 'G2' 'G3' 'G4' 'G5']\n",
      "['' 'A2' 'A3' 'A4' 'A5' 'B2' 'B3' 'B4' 'Bb3' 'C#4' 'C#5' 'C3' 'C4' 'C5'\n",
      " 'D3' 'D4' 'D5' 'E2' 'E3' 'E4' 'E5' 'Eb3' 'Eb4' 'Eb5' 'F#4' 'F2' 'F3' 'F4'\n",
      " 'G#3' 'G#4' 'G2' 'G3' 'G4' 'G5']\n",
      "['' 'A2' 'A3' 'A4' 'A5' 'B2' 'B3' 'B4' 'Bb3' 'C#4' 'C#5' 'C3' 'C4' 'C5'\n",
      " 'D3' 'D4' 'D5' 'E2' 'E3' 'E4' 'E5' 'Eb3' 'Eb4' 'Eb5' 'F#4' 'F2' 'F3' 'F4'\n",
      " 'G#3' 'G#4' 'G2' 'G3' 'G4' 'G5']\n",
      "['' 'A2' 'A3' 'A4' 'A5' 'B2' 'B3' 'B4' 'Bb3' 'C#4' 'C#5' 'C3' 'C4' 'C5'\n",
      " 'D3' 'D4' 'D5' 'E2' 'E3' 'E4' 'E5' 'Eb3' 'Eb4' 'Eb5' 'F#4' 'F2' 'F3' 'F4'\n",
      " 'G#3' 'G#4' 'G2' 'G3' 'G4' 'G5']\n",
      "['' 'A2' 'A3' 'A4' 'A5' 'B2' 'B3' 'B4' 'Bb3' 'C#4' 'C#5' 'C3' 'C4' 'C5'\n",
      " 'D3' 'D4' 'D5' 'E2' 'E3' 'E4' 'E5' 'Eb3' 'Eb4' 'Eb5' 'F#4' 'F2' 'F3' 'F4'\n",
      " 'G#3' 'G#4' 'G2' 'G3' 'G4' 'G5']\n",
      "['' 'A2' 'A3' 'A4' 'A5' 'B2' 'B3' 'B4' 'Bb3' 'C#4' 'C#5' 'C3' 'C4' 'C5'\n",
      " 'D3' 'D4' 'D5' 'E2' 'E3' 'E4' 'E5' 'Eb3' 'Eb4' 'Eb5' 'F#4' 'F2' 'F3' 'F4'\n",
      " 'G#3' 'G#4' 'G2' 'G3' 'G4' 'G5']\n",
      "['' 'A2' 'A3' 'A4' 'A5' 'B2' 'B3' 'B4' 'Bb3' 'C#4' 'C#5' 'C3' 'C4' 'C5'\n",
      " 'D3' 'D4' 'D5' 'E2' 'E3' 'E4' 'E5' 'Eb3' 'Eb4' 'Eb5' 'F#4' 'F2' 'F3' 'F4'\n",
      " 'G#3' 'G#4' 'G2' 'G3' 'G4' 'G5']\n",
      "['' 'A2' 'A3' 'A4' 'A5' 'B2' 'B3' 'B4' 'Bb3' 'C#4' 'C#5' 'C3' 'C4' 'C5'\n",
      " 'D3' 'D4' 'D5' 'E2' 'E3' 'E4' 'E5' 'Eb3' 'Eb4' 'Eb5' 'F#4' 'F2' 'F3' 'F4'\n",
      " 'G#3' 'G#4' 'G2' 'G3' 'G4' 'G5']\n",
      "['' 'A2' 'A3' 'A4' 'A5' 'B2' 'B3' 'B4' 'Bb3' 'C#4' 'C#5' 'C3' 'C4' 'C5'\n",
      " 'D3' 'D4' 'D5' 'E2' 'E3' 'E4' 'E5' 'Eb3' 'Eb4' 'Eb5' 'F#4' 'F2' 'F3' 'F4'\n",
      " 'G#3' 'G#4' 'G2' 'G3' 'G4' 'G5']\n",
      "['' 'A2' 'A3' 'A4' 'A5' 'B2' 'B3' 'B4' 'Bb3' 'C#4' 'C#5' 'C3' 'C4' 'C5'\n",
      " 'D3' 'D4' 'D5' 'E2' 'E3' 'E4' 'E5' 'Eb3' 'Eb4' 'Eb5' 'F#4' 'F2' 'F3' 'F4'\n",
      " 'G#3' 'G#4' 'G2' 'G3' 'G4' 'G5']\n",
      "['' 'A2' 'A3' 'A4' 'A5' 'B2' 'B3' 'B4' 'Bb3' 'C#4' 'C#5' 'C3' 'C4' 'C5'\n",
      " 'D3' 'D4' 'D5' 'E2' 'E3' 'E4' 'E5' 'Eb3' 'Eb4' 'Eb5' 'F#4' 'F2' 'F3' 'F4'\n",
      " 'G#3' 'G#4' 'G2' 'G3' 'G4' 'G5']\n",
      "['' 'A2' 'A3' 'A4' 'A5' 'B2' 'B3' 'B4' 'Bb3' 'C#4' 'C#5' 'C3' 'C4' 'C5'\n",
      " 'D3' 'D4' 'D5' 'E2' 'E3' 'E4' 'E5' 'Eb3' 'Eb4' 'Eb5' 'F#4' 'F2' 'F3' 'F4'\n",
      " 'G#3' 'G#4' 'G2' 'G3' 'G4' 'G5']\n",
      "['' 'A2' 'A3' 'A4' 'A5' 'B2' 'B3' 'B4' 'Bb3' 'C#4' 'C#5' 'C3' 'C4' 'C5'\n",
      " 'D3' 'D4' 'D5' 'E2' 'E3' 'E4' 'E5' 'Eb3' 'Eb4' 'Eb5' 'F#4' 'F2' 'F3' 'F4'\n",
      " 'G#3' 'G#4' 'G2' 'G3' 'G4' 'G5']\n",
      "['' 'A2' 'A3' 'A4' 'A5' 'B2' 'B3' 'B4' 'Bb3' 'C#4' 'C#5' 'C3' 'C4' 'C5'\n",
      " 'D3' 'D4' 'D5' 'E2' 'E3' 'E4' 'E5' 'Eb3' 'Eb4' 'Eb5' 'F#4' 'F2' 'F3' 'F4'\n",
      " 'G#3' 'G#4' 'G2' 'G3' 'G4' 'G5']\n",
      "['' 'A2' 'A3' 'A4' 'A5' 'B2' 'B3' 'B4' 'Bb3' 'C#4' 'C#5' 'C3' 'C4' 'C5'\n",
      " 'D3' 'D4' 'D5' 'E2' 'E3' 'E4' 'E5' 'Eb3' 'Eb4' 'Eb5' 'F#4' 'F2' 'F3' 'F4'\n",
      " 'G#3' 'G#4' 'G2' 'G3' 'G4' 'G5']\n",
      "['' 'A2' 'A3' 'A4' 'A5' 'B2' 'B3' 'B4' 'Bb3' 'C#4' 'C#5' 'C3' 'C4' 'C5'\n",
      " 'D3' 'D4' 'D5' 'E2' 'E3' 'E4' 'E5' 'Eb3' 'Eb4' 'Eb5' 'F#4' 'F2' 'F3' 'F4'\n",
      " 'G#3' 'G#4' 'G2' 'G3' 'G4' 'G5']\n",
      "['' 'A2' 'A3' 'A4' 'A5' 'B2' 'B3' 'B4' 'Bb3' 'C#4' 'C#5' 'C3' 'C4' 'C5'\n",
      " 'D3' 'D4' 'D5' 'E2' 'E3' 'E4' 'E5' 'Eb3' 'Eb4' 'Eb5' 'F#4' 'F2' 'F3' 'F4'\n",
      " 'G#3' 'G#4' 'G2' 'G3' 'G4' 'G5']\n",
      "['' 'A2' 'A3' 'A4' 'A5' 'B2' 'B3' 'B4' 'Bb3' 'C#4' 'C#5' 'C3' 'C4' 'C5'\n",
      " 'D3' 'D4' 'D5' 'E2' 'E3' 'E4' 'E5' 'Eb3' 'Eb4' 'Eb5' 'F#4' 'F2' 'F3' 'F4'\n",
      " 'G#3' 'G#4' 'G2' 'G3' 'G4' 'G5']\n",
      "['' 'A2' 'A3' 'A4' 'A5' 'B2' 'B3' 'B4' 'Bb3' 'C#4' 'C#5' 'C3' 'C4' 'C5'\n",
      " 'D3' 'D4' 'D5' 'E2' 'E3' 'E4' 'E5' 'Eb3' 'Eb4' 'Eb5' 'F#4' 'F2' 'F3' 'F4'\n",
      " 'G#3' 'G#4' 'G2' 'G3' 'G4' 'G5']\n",
      "['' 'A2' 'A3' 'A4' 'A5' 'B2' 'B3' 'B4' 'Bb3' 'C#4' 'C#5' 'C3' 'C4' 'C5'\n",
      " 'D3' 'D4' 'D5' 'E2' 'E3' 'E4' 'E5' 'Eb3' 'Eb4' 'Eb5' 'F#4' 'F2' 'F3' 'F4'\n",
      " 'G#3' 'G#4' 'G2' 'G3' 'G4' 'G5']\n",
      "['' 'A2' 'A3' 'A4' 'A5' 'B2' 'B3' 'B4' 'Bb3' 'C#4' 'C#5' 'C3' 'C4' 'C5'\n",
      " 'D3' 'D4' 'D5' 'E2' 'E3' 'E4' 'E5' 'Eb3' 'Eb4' 'Eb5' 'F#4' 'F2' 'F3' 'F4'\n",
      " 'G#3' 'G#4' 'G2' 'G3' 'G4' 'G5']\n",
      "['' 'A2' 'A3' 'A4' 'A5' 'B2' 'B3' 'B4' 'Bb3' 'C#4' 'C#5' 'C3' 'C4' 'C5'\n",
      " 'D3' 'D4' 'D5' 'E2' 'E3' 'E4' 'E5' 'Eb3' 'Eb4' 'Eb5' 'F#4' 'F2' 'F3' 'F4'\n",
      " 'G#3' 'G#4' 'G2' 'G3' 'G4' 'G5']\n",
      "['' 'A2' 'A3' 'A4' 'A5' 'B2' 'B3' 'B4' 'Bb3' 'C#4' 'C#5' 'C3' 'C4' 'C5'\n",
      " 'D3' 'D4' 'D5' 'E2' 'E3' 'E4' 'E5' 'Eb3' 'Eb4' 'Eb5' 'F#4' 'F2' 'F3' 'F4'\n",
      " 'G#3' 'G#4' 'G2' 'G3' 'G4' 'G5']\n",
      "['' 'A2' 'A3' 'A4' 'A5' 'B2' 'B3' 'B4' 'Bb3' 'C#4' 'C#5' 'C3' 'C4' 'C5'\n",
      " 'D3' 'D4' 'D5' 'E2' 'E3' 'E4' 'E5' 'Eb3' 'Eb4' 'Eb5' 'F#4' 'F2' 'F3' 'F4'\n",
      " 'G#3' 'G#4' 'G2' 'G3' 'G4' 'G5']\n"
     ]
    }
   ],
   "source": [
    "from sklearn.preprocessing import LabelEncoder\n",
    "\n",
    "enc = LabelEncoder()\n",
    "enc.fit(X_cat.reshape(X_cat.size))\n",
    "for i in range(sum(cat_features)):\n",
    "    print(enc.classes_)\n",
    "for i in range(sum(cat_features)):\n",
    "    X_cat[:, i] = enc.transform(X_cat[:, i])"
   ]
  },
  {
   "cell_type": "code",
   "execution_count": 8,
   "metadata": {},
   "outputs": [
    {
     "data": {
      "text/plain": [
       "array([['19', '19', '19', ..., '27', '27', '27'],\n",
       "       ['1', '0', '0', ..., '0', '0', '17'],\n",
       "       ['1', '0', '0', ..., '0', '0', '17'],\n",
       "       ...,\n",
       "       ['0', '15', '0', ..., '3', '0', '3'],\n",
       "       ['31', '31', '5', ..., '31', '14', '14'],\n",
       "       ['30', '0', '0', ..., '26', '26', '26']], dtype='<U32')"
      ]
     },
     "execution_count": 8,
     "metadata": {},
     "output_type": "execute_result"
    }
   ],
   "source": [
    "X_cat"
   ]
  },
  {
   "cell_type": "code",
   "execution_count": 9,
   "metadata": {},
   "outputs": [],
   "source": [
    "X = np.hstack([np.int_(X_cat), X_real])"
   ]
  },
  {
   "cell_type": "code",
   "execution_count": 10,
   "metadata": {},
   "outputs": [
    {
     "data": {
      "text/plain": [
       "array([[19, 19, 19, ..., 57, 64, 60],\n",
       "       [ 1,  0,  0, ...,  0,  0, 40],\n",
       "       [ 1,  0,  0, ..., 33, 33, 40],\n",
       "       ...,\n",
       "       [ 0, 15,  0, ..., 33, 40, 40],\n",
       "       [31, 31,  5, ..., 35, 38, 38],\n",
       "       [30,  0,  0, ..., 33, 36, 33]])"
      ]
     },
     "execution_count": 10,
     "metadata": {},
     "output_type": "execute_result"
    }
   ],
   "source": [
    "X"
   ]
  },
  {
   "cell_type": "code",
   "execution_count": 11,
   "metadata": {},
   "outputs": [
    {
     "name": "stdout",
     "output_type": "stream",
     "text": [
      "[[ 0 15  0 ... 38 33 33]\n",
      " [ 0  2  0 ... 31 38 38]\n",
      " [ 0 32  0 ... 43 40 40]\n",
      " ...\n",
      " [ 5  0  0 ... 66 62 55]\n",
      " [ 0 20  0 ... 38 42 42]\n",
      " [11 11 18 ... 48 40 40]]\n",
      "0.813953488372093\n",
      "D4 [ 0 15  0 15  0 15  0 15  0 15  0 15  0 15  0 15  0 15  0 15  0 15  0 15\n",
      "  0 15  0 15 43 43 38 38 43 43 38 38 41 41 36 36 41 41 38 38 43 43 38 38\n",
      " 43 43 38 38 38 38 45 45] D4\n"
     ]
    },
    {
     "name": "stderr",
     "output_type": "stream",
     "text": [
      "/home/sharik/.pyenv/versions/3.6.0/lib/python3.6/site-packages/sklearn/ensemble/weight_boosting.py:29: DeprecationWarning: numpy.core.umath_tests is an internal NumPy module and should not be imported. It will be removed in a future NumPy release.\n",
      "  from numpy.core.umath_tests import inner1d\n"
     ]
    }
   ],
   "source": [
    "from sklearn.model_selection import train_test_split\n",
    "\n",
    "X_train, X_test, y_train, y_test = train_test_split(X, y)\n",
    "\n",
    "from sklearn.ensemble import RandomForestClassifier\n",
    "from sklearn.metrics import accuracy_score\n",
    "from nottingham_test import custom_scorers\n",
    "from sklearn.metrics import make_scorer\n",
    "\n",
    "clf = RandomForestClassifier(n_estimators=20)\n",
    "clf.fit(X_train, y_train)\n",
    "\n",
    "print(X_test)\n",
    "\n",
    "#abs_dist_score = make_scorer(custom_scorers.chords_dist_error)\n",
    "y_pred = clf.predict(X_test)\n",
    "print(accuracy_score(y_test, y_pred))\n",
    "#print(abs_dist_score(clf, X_test, y_test))\n",
    "\n",
    "with open('rf_nottingham.pkl', 'wb') as fid:\n",
    "    pickle.dump(clf, fid)\n",
    "print(y_test[10], X_test[10, :], clf.predict(X_test)[10])"
   ]
  },
  {
   "cell_type": "code",
   "execution_count": null,
   "metadata": {},
   "outputs": [],
   "source": []
  }
 ],
 "metadata": {
  "kernelspec": {
   "display_name": "Python 3",
   "language": "python",
   "name": "python3"
  },
  "language_info": {
   "codemirror_mode": {
    "name": "ipython",
    "version": 3
   },
   "file_extension": ".py",
   "mimetype": "text/x-python",
   "name": "python",
   "nbconvert_exporter": "python",
   "pygments_lexer": "ipython3",
   "version": "3.6.0"
  }
 },
 "nbformat": 4,
 "nbformat_minor": 2
}
