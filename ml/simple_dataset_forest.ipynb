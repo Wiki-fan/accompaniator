{
 "cells": [
  {
   "cell_type": "code",
   "execution_count": 30,
   "metadata": {},
   "outputs": [],
   "source": [
    "import sys\n",
    "sys.path.append('..')\n",
    "\n",
    "from ml.dataset.corpus import *\n",
    "from ml.dataset.mappers_preprocess import *\n",
    "from ml.dataset.mappers_simplify import *\n",
    "from ml.dataset.pipeline import *\n",
    "from IPython.core.display import HTML, display\n",
    "\n",
    "import matplotlib.pyplot as plt\n",
    "import pandas as pd\n",
    "import pychord\n",
    "import music21\n",
    "music21.environment.set('musescoreDirectPNGPath', '/usr/bin/musescore')\n",
    "\n",
    "import matplotlib.pyplot as plt\n",
    "import numpy as np\n",
    "import pickle\n",
    "\n",
    "y = np.load(\"y_simple.npy\")\n",
    "X = (np.load(\"X_simple.npy\"))"
   ]
  },
  {
   "cell_type": "code",
   "execution_count": 33,
   "metadata": {},
   "outputs": [
    {
     "name": "stdout",
     "output_type": "stream",
     "text": [
      "(30009, 56) (30009,)\n"
     ]
    }
   ],
   "source": [
    "print(X.shape, y.shape)"
   ]
  },
  {
   "cell_type": "code",
   "execution_count": 32,
   "metadata": {},
   "outputs": [
    {
     "name": "stdout",
     "output_type": "stream",
     "text": [
      "(30029, 56)\n",
      "(30009, 56)\n",
      "['' 'A1' 'A2' 'A3' 'A4' 'A5' 'B1' 'B2' 'B3' 'B4' 'Bb1' 'Bb2' 'Bb3' 'Bb4'\n",
      " 'Bb5' 'C#2' 'C#3' 'C#4' 'C#5' 'C2' 'C3' 'C4' 'C5' 'C6' 'D2' 'D3' 'D4'\n",
      " 'D5' 'E1' 'E2' 'E3' 'E4' 'E5' 'Eb2' 'Eb3' 'Eb4' 'Eb5' 'F#2' 'F#3' 'F#4'\n",
      " 'F#5' 'F1' 'F2' 'F3' 'F4' 'F5' 'F6' 'G#2' 'G#3' 'G#4' 'G2' 'G3' 'G4' 'G5']\n",
      "54\n",
      "Features: 56\n",
      "int64 <U32\n",
      "[ True  True  True  True  True  True  True  True  True  True  True  True\n",
      "  True  True  True  True  True  True  True  True  True  True  True  True\n",
      "  True  True  True  True False False False False False False False False\n",
      " False False False False False False False False False False False False\n",
      " False False False False False False False False]\n",
      "[False False False False False False False False False False False False\n",
      " False False False False False False False False False False False False\n",
      " False False False False  True  True  True  True  True  True  True  True\n",
      "  True  True  True  True  True  True  True  True  True  True  True  True\n",
      "  True  True  True  True  True  True  True  True]\n"
     ]
    }
   ],
   "source": [
    "els, counts = np.unique(y, return_counts=True)\n",
    "# plt.scatter(range(len(els)), counts)\n",
    "# plt.show()\n",
    "# print(els, counts)\n",
    "rare = els[counts < 10]\n",
    "\n",
    "isin = np.logical_not(np.isin(y, rare))\n",
    "print(X.shape)\n",
    "X = X[isin, :]\n",
    "print(X.shape)\n",
    "y = y[isin]\n",
    "\n",
    "els, counts = np.unique(y, return_counts=True)\n",
    "# plt.scatter(range(len(els)), counts)\n",
    "# plt.show()\n",
    "print(els)\n",
    "print(len(els))\n",
    "\n",
    "feat = X.shape[1]\n",
    "print(\"Features:\", feat)\n",
    "tst = np.array([1])\n",
    "print(tst.dtype, X.dtype)\n",
    "if X.dtype == tst.dtype:\n",
    "    num_features = np.zeros(feat, dtype='bool')\n",
    "else:\n",
    "    num_features = np.array(['0' <= X[0, i][0] <= '9' for i in range(feat)])\n",
    "cat_features = np.logical_not(num_features)\n",
    "print(num_features)\n",
    "print(cat_features)"
   ]
  },
  {
   "cell_type": "code",
   "execution_count": 34,
   "metadata": {},
   "outputs": [
    {
     "name": "stdout",
     "output_type": "stream",
     "text": [
      "['Bb2' 'Bb2' 'Bb2' 'Bb2' 'Bb2' 'Bb2' 'C3' 'C3' 'C3' 'C3' 'C3' 'C3' 'A2'\n",
      " 'A2' 'A2' 'A2' 'A2' 'A2' 'Bb2' 'Bb2' 'Bb2' 'Bb2' 'Bb2' 'Bb2' 'G2' 'G2'\n",
      " 'G2' 'G2']\n",
      "[34 34 34 34 34 34 36 36 36 36 36 36 33 33 33 33 33 33 34 34 34 34 34 34\n",
      " 31 31 31 31]\n"
     ]
    }
   ],
   "source": [
    "# X_cat = X[:,8:16]\n",
    "# X_real = np.int_(np.hstack([X[:,:8], X[:,16:]]))\n",
    "\n",
    "X_cat = X[:, cat_features]\n",
    "X_real = np.int_(X[:, num_features])\n",
    "print(X_cat[0, :])\n",
    "print(X_real[0, :])"
   ]
  },
  {
   "cell_type": "code",
   "execution_count": 35,
   "metadata": {},
   "outputs": [
    {
     "data": {
      "text/plain": [
       "array([['Bb2', 'Bb2', 'Bb2', ..., 'G2', 'G2', 'G2'],\n",
       "       ['C3', 'C3', 'C3', ..., 'C3', 'C3', 'C3'],\n",
       "       ['A2', 'A2', 'Bb2', ..., 'Eb3', 'F2', 'F2'],\n",
       "       ...,\n",
       "       ['D2', 'D2', 'D2', ..., 'G2', 'G2', 'G2'],\n",
       "       ['D2', 'D2', 'D2', ..., 'G2', 'G2', 'G2'],\n",
       "       ['D2', 'D2', 'D2', ..., 'G2', 'G2', 'G2']], dtype='<U32')"
      ]
     },
     "execution_count": 35,
     "metadata": {},
     "output_type": "execute_result"
    }
   ],
   "source": [
    "X_cat"
   ]
  },
  {
   "cell_type": "code",
   "execution_count": 36,
   "metadata": {},
   "outputs": [
    {
     "name": "stdout",
     "output_type": "stream",
     "text": [
      "['' 'A1' 'A2' 'A3' 'A4' 'A5' 'A6' 'B1' 'B2' 'B3' 'B4' 'B5' 'Bb1' 'Bb2'\n",
      " 'Bb3' 'Bb4' 'Bb5' 'C#2' 'C#3' 'C#4' 'C#5' 'C2' 'C3' 'C4' 'C5' 'C6' 'D2'\n",
      " 'D3' 'D4' 'D5' 'D6' 'E1' 'E2' 'E3' 'E4' 'E5' 'E6' 'Eb2' 'Eb3' 'Eb4' 'Eb5'\n",
      " 'Eb6' 'F#2' 'F#3' 'F#4' 'F#5' 'F#6' 'F1' 'F2' 'F3' 'F4' 'F5' 'F6' 'G#2'\n",
      " 'G#3' 'G#4' 'G#5' 'G1' 'G2' 'G3' 'G4' 'G5' 'G6']\n",
      "['' 'A1' 'A2' 'A3' 'A4' 'A5' 'A6' 'B1' 'B2' 'B3' 'B4' 'B5' 'Bb1' 'Bb2'\n",
      " 'Bb3' 'Bb4' 'Bb5' 'C#2' 'C#3' 'C#4' 'C#5' 'C2' 'C3' 'C4' 'C5' 'C6' 'D2'\n",
      " 'D3' 'D4' 'D5' 'D6' 'E1' 'E2' 'E3' 'E4' 'E5' 'E6' 'Eb2' 'Eb3' 'Eb4' 'Eb5'\n",
      " 'Eb6' 'F#2' 'F#3' 'F#4' 'F#5' 'F#6' 'F1' 'F2' 'F3' 'F4' 'F5' 'F6' 'G#2'\n",
      " 'G#3' 'G#4' 'G#5' 'G1' 'G2' 'G3' 'G4' 'G5' 'G6']\n",
      "['' 'A1' 'A2' 'A3' 'A4' 'A5' 'A6' 'B1' 'B2' 'B3' 'B4' 'B5' 'Bb1' 'Bb2'\n",
      " 'Bb3' 'Bb4' 'Bb5' 'C#2' 'C#3' 'C#4' 'C#5' 'C2' 'C3' 'C4' 'C5' 'C6' 'D2'\n",
      " 'D3' 'D4' 'D5' 'D6' 'E1' 'E2' 'E3' 'E4' 'E5' 'E6' 'Eb2' 'Eb3' 'Eb4' 'Eb5'\n",
      " 'Eb6' 'F#2' 'F#3' 'F#4' 'F#5' 'F#6' 'F1' 'F2' 'F3' 'F4' 'F5' 'F6' 'G#2'\n",
      " 'G#3' 'G#4' 'G#5' 'G1' 'G2' 'G3' 'G4' 'G5' 'G6']\n",
      "['' 'A1' 'A2' 'A3' 'A4' 'A5' 'A6' 'B1' 'B2' 'B3' 'B4' 'B5' 'Bb1' 'Bb2'\n",
      " 'Bb3' 'Bb4' 'Bb5' 'C#2' 'C#3' 'C#4' 'C#5' 'C2' 'C3' 'C4' 'C5' 'C6' 'D2'\n",
      " 'D3' 'D4' 'D5' 'D6' 'E1' 'E2' 'E3' 'E4' 'E5' 'E6' 'Eb2' 'Eb3' 'Eb4' 'Eb5'\n",
      " 'Eb6' 'F#2' 'F#3' 'F#4' 'F#5' 'F#6' 'F1' 'F2' 'F3' 'F4' 'F5' 'F6' 'G#2'\n",
      " 'G#3' 'G#4' 'G#5' 'G1' 'G2' 'G3' 'G4' 'G5' 'G6']\n",
      "['' 'A1' 'A2' 'A3' 'A4' 'A5' 'A6' 'B1' 'B2' 'B3' 'B4' 'B5' 'Bb1' 'Bb2'\n",
      " 'Bb3' 'Bb4' 'Bb5' 'C#2' 'C#3' 'C#4' 'C#5' 'C2' 'C3' 'C4' 'C5' 'C6' 'D2'\n",
      " 'D3' 'D4' 'D5' 'D6' 'E1' 'E2' 'E3' 'E4' 'E5' 'E6' 'Eb2' 'Eb3' 'Eb4' 'Eb5'\n",
      " 'Eb6' 'F#2' 'F#3' 'F#4' 'F#5' 'F#6' 'F1' 'F2' 'F3' 'F4' 'F5' 'F6' 'G#2'\n",
      " 'G#3' 'G#4' 'G#5' 'G1' 'G2' 'G3' 'G4' 'G5' 'G6']\n",
      "['' 'A1' 'A2' 'A3' 'A4' 'A5' 'A6' 'B1' 'B2' 'B3' 'B4' 'B5' 'Bb1' 'Bb2'\n",
      " 'Bb3' 'Bb4' 'Bb5' 'C#2' 'C#3' 'C#4' 'C#5' 'C2' 'C3' 'C4' 'C5' 'C6' 'D2'\n",
      " 'D3' 'D4' 'D5' 'D6' 'E1' 'E2' 'E3' 'E4' 'E5' 'E6' 'Eb2' 'Eb3' 'Eb4' 'Eb5'\n",
      " 'Eb6' 'F#2' 'F#3' 'F#4' 'F#5' 'F#6' 'F1' 'F2' 'F3' 'F4' 'F5' 'F6' 'G#2'\n",
      " 'G#3' 'G#4' 'G#5' 'G1' 'G2' 'G3' 'G4' 'G5' 'G6']\n",
      "['' 'A1' 'A2' 'A3' 'A4' 'A5' 'A6' 'B1' 'B2' 'B3' 'B4' 'B5' 'Bb1' 'Bb2'\n",
      " 'Bb3' 'Bb4' 'Bb5' 'C#2' 'C#3' 'C#4' 'C#5' 'C2' 'C3' 'C4' 'C5' 'C6' 'D2'\n",
      " 'D3' 'D4' 'D5' 'D6' 'E1' 'E2' 'E3' 'E4' 'E5' 'E6' 'Eb2' 'Eb3' 'Eb4' 'Eb5'\n",
      " 'Eb6' 'F#2' 'F#3' 'F#4' 'F#5' 'F#6' 'F1' 'F2' 'F3' 'F4' 'F5' 'F6' 'G#2'\n",
      " 'G#3' 'G#4' 'G#5' 'G1' 'G2' 'G3' 'G4' 'G5' 'G6']\n",
      "['' 'A1' 'A2' 'A3' 'A4' 'A5' 'A6' 'B1' 'B2' 'B3' 'B4' 'B5' 'Bb1' 'Bb2'\n",
      " 'Bb3' 'Bb4' 'Bb5' 'C#2' 'C#3' 'C#4' 'C#5' 'C2' 'C3' 'C4' 'C5' 'C6' 'D2'\n",
      " 'D3' 'D4' 'D5' 'D6' 'E1' 'E2' 'E3' 'E4' 'E5' 'E6' 'Eb2' 'Eb3' 'Eb4' 'Eb5'\n",
      " 'Eb6' 'F#2' 'F#3' 'F#4' 'F#5' 'F#6' 'F1' 'F2' 'F3' 'F4' 'F5' 'F6' 'G#2'\n",
      " 'G#3' 'G#4' 'G#5' 'G1' 'G2' 'G3' 'G4' 'G5' 'G6']\n",
      "['' 'A1' 'A2' 'A3' 'A4' 'A5' 'A6' 'B1' 'B2' 'B3' 'B4' 'B5' 'Bb1' 'Bb2'\n",
      " 'Bb3' 'Bb4' 'Bb5' 'C#2' 'C#3' 'C#4' 'C#5' 'C2' 'C3' 'C4' 'C5' 'C6' 'D2'\n",
      " 'D3' 'D4' 'D5' 'D6' 'E1' 'E2' 'E3' 'E4' 'E5' 'E6' 'Eb2' 'Eb3' 'Eb4' 'Eb5'\n",
      " 'Eb6' 'F#2' 'F#3' 'F#4' 'F#5' 'F#6' 'F1' 'F2' 'F3' 'F4' 'F5' 'F6' 'G#2'\n",
      " 'G#3' 'G#4' 'G#5' 'G1' 'G2' 'G3' 'G4' 'G5' 'G6']\n",
      "['' 'A1' 'A2' 'A3' 'A4' 'A5' 'A6' 'B1' 'B2' 'B3' 'B4' 'B5' 'Bb1' 'Bb2'\n",
      " 'Bb3' 'Bb4' 'Bb5' 'C#2' 'C#3' 'C#4' 'C#5' 'C2' 'C3' 'C4' 'C5' 'C6' 'D2'\n",
      " 'D3' 'D4' 'D5' 'D6' 'E1' 'E2' 'E3' 'E4' 'E5' 'E6' 'Eb2' 'Eb3' 'Eb4' 'Eb5'\n",
      " 'Eb6' 'F#2' 'F#3' 'F#4' 'F#5' 'F#6' 'F1' 'F2' 'F3' 'F4' 'F5' 'F6' 'G#2'\n",
      " 'G#3' 'G#4' 'G#5' 'G1' 'G2' 'G3' 'G4' 'G5' 'G6']\n",
      "['' 'A1' 'A2' 'A3' 'A4' 'A5' 'A6' 'B1' 'B2' 'B3' 'B4' 'B5' 'Bb1' 'Bb2'\n",
      " 'Bb3' 'Bb4' 'Bb5' 'C#2' 'C#3' 'C#4' 'C#5' 'C2' 'C3' 'C4' 'C5' 'C6' 'D2'\n",
      " 'D3' 'D4' 'D5' 'D6' 'E1' 'E2' 'E3' 'E4' 'E5' 'E6' 'Eb2' 'Eb3' 'Eb4' 'Eb5'\n",
      " 'Eb6' 'F#2' 'F#3' 'F#4' 'F#5' 'F#6' 'F1' 'F2' 'F3' 'F4' 'F5' 'F6' 'G#2'\n",
      " 'G#3' 'G#4' 'G#5' 'G1' 'G2' 'G3' 'G4' 'G5' 'G6']\n",
      "['' 'A1' 'A2' 'A3' 'A4' 'A5' 'A6' 'B1' 'B2' 'B3' 'B4' 'B5' 'Bb1' 'Bb2'\n",
      " 'Bb3' 'Bb4' 'Bb5' 'C#2' 'C#3' 'C#4' 'C#5' 'C2' 'C3' 'C4' 'C5' 'C6' 'D2'\n",
      " 'D3' 'D4' 'D5' 'D6' 'E1' 'E2' 'E3' 'E4' 'E5' 'E6' 'Eb2' 'Eb3' 'Eb4' 'Eb5'\n",
      " 'Eb6' 'F#2' 'F#3' 'F#4' 'F#5' 'F#6' 'F1' 'F2' 'F3' 'F4' 'F5' 'F6' 'G#2'\n",
      " 'G#3' 'G#4' 'G#5' 'G1' 'G2' 'G3' 'G4' 'G5' 'G6']\n",
      "['' 'A1' 'A2' 'A3' 'A4' 'A5' 'A6' 'B1' 'B2' 'B3' 'B4' 'B5' 'Bb1' 'Bb2'\n",
      " 'Bb3' 'Bb4' 'Bb5' 'C#2' 'C#3' 'C#4' 'C#5' 'C2' 'C3' 'C4' 'C5' 'C6' 'D2'\n",
      " 'D3' 'D4' 'D5' 'D6' 'E1' 'E2' 'E3' 'E4' 'E5' 'E6' 'Eb2' 'Eb3' 'Eb4' 'Eb5'\n",
      " 'Eb6' 'F#2' 'F#3' 'F#4' 'F#5' 'F#6' 'F1' 'F2' 'F3' 'F4' 'F5' 'F6' 'G#2'\n",
      " 'G#3' 'G#4' 'G#5' 'G1' 'G2' 'G3' 'G4' 'G5' 'G6']\n",
      "['' 'A1' 'A2' 'A3' 'A4' 'A5' 'A6' 'B1' 'B2' 'B3' 'B4' 'B5' 'Bb1' 'Bb2'\n",
      " 'Bb3' 'Bb4' 'Bb5' 'C#2' 'C#3' 'C#4' 'C#5' 'C2' 'C3' 'C4' 'C5' 'C6' 'D2'\n",
      " 'D3' 'D4' 'D5' 'D6' 'E1' 'E2' 'E3' 'E4' 'E5' 'E6' 'Eb2' 'Eb3' 'Eb4' 'Eb5'\n",
      " 'Eb6' 'F#2' 'F#3' 'F#4' 'F#5' 'F#6' 'F1' 'F2' 'F3' 'F4' 'F5' 'F6' 'G#2'\n",
      " 'G#3' 'G#4' 'G#5' 'G1' 'G2' 'G3' 'G4' 'G5' 'G6']\n",
      "['' 'A1' 'A2' 'A3' 'A4' 'A5' 'A6' 'B1' 'B2' 'B3' 'B4' 'B5' 'Bb1' 'Bb2'\n",
      " 'Bb3' 'Bb4' 'Bb5' 'C#2' 'C#3' 'C#4' 'C#5' 'C2' 'C3' 'C4' 'C5' 'C6' 'D2'\n",
      " 'D3' 'D4' 'D5' 'D6' 'E1' 'E2' 'E3' 'E4' 'E5' 'E6' 'Eb2' 'Eb3' 'Eb4' 'Eb5'\n",
      " 'Eb6' 'F#2' 'F#3' 'F#4' 'F#5' 'F#6' 'F1' 'F2' 'F3' 'F4' 'F5' 'F6' 'G#2'\n",
      " 'G#3' 'G#4' 'G#5' 'G1' 'G2' 'G3' 'G4' 'G5' 'G6']\n",
      "['' 'A1' 'A2' 'A3' 'A4' 'A5' 'A6' 'B1' 'B2' 'B3' 'B4' 'B5' 'Bb1' 'Bb2'\n",
      " 'Bb3' 'Bb4' 'Bb5' 'C#2' 'C#3' 'C#4' 'C#5' 'C2' 'C3' 'C4' 'C5' 'C6' 'D2'\n",
      " 'D3' 'D4' 'D5' 'D6' 'E1' 'E2' 'E3' 'E4' 'E5' 'E6' 'Eb2' 'Eb3' 'Eb4' 'Eb5'\n",
      " 'Eb6' 'F#2' 'F#3' 'F#4' 'F#5' 'F#6' 'F1' 'F2' 'F3' 'F4' 'F5' 'F6' 'G#2'\n",
      " 'G#3' 'G#4' 'G#5' 'G1' 'G2' 'G3' 'G4' 'G5' 'G6']\n",
      "['' 'A1' 'A2' 'A3' 'A4' 'A5' 'A6' 'B1' 'B2' 'B3' 'B4' 'B5' 'Bb1' 'Bb2'\n",
      " 'Bb3' 'Bb4' 'Bb5' 'C#2' 'C#3' 'C#4' 'C#5' 'C2' 'C3' 'C4' 'C5' 'C6' 'D2'\n",
      " 'D3' 'D4' 'D5' 'D6' 'E1' 'E2' 'E3' 'E4' 'E5' 'E6' 'Eb2' 'Eb3' 'Eb4' 'Eb5'\n",
      " 'Eb6' 'F#2' 'F#3' 'F#4' 'F#5' 'F#6' 'F1' 'F2' 'F3' 'F4' 'F5' 'F6' 'G#2'\n",
      " 'G#3' 'G#4' 'G#5' 'G1' 'G2' 'G3' 'G4' 'G5' 'G6']\n",
      "['' 'A1' 'A2' 'A3' 'A4' 'A5' 'A6' 'B1' 'B2' 'B3' 'B4' 'B5' 'Bb1' 'Bb2'\n",
      " 'Bb3' 'Bb4' 'Bb5' 'C#2' 'C#3' 'C#4' 'C#5' 'C2' 'C3' 'C4' 'C5' 'C6' 'D2'\n",
      " 'D3' 'D4' 'D5' 'D6' 'E1' 'E2' 'E3' 'E4' 'E5' 'E6' 'Eb2' 'Eb3' 'Eb4' 'Eb5'\n",
      " 'Eb6' 'F#2' 'F#3' 'F#4' 'F#5' 'F#6' 'F1' 'F2' 'F3' 'F4' 'F5' 'F6' 'G#2'\n",
      " 'G#3' 'G#4' 'G#5' 'G1' 'G2' 'G3' 'G4' 'G5' 'G6']\n",
      "['' 'A1' 'A2' 'A3' 'A4' 'A5' 'A6' 'B1' 'B2' 'B3' 'B4' 'B5' 'Bb1' 'Bb2'\n",
      " 'Bb3' 'Bb4' 'Bb5' 'C#2' 'C#3' 'C#4' 'C#5' 'C2' 'C3' 'C4' 'C5' 'C6' 'D2'\n",
      " 'D3' 'D4' 'D5' 'D6' 'E1' 'E2' 'E3' 'E4' 'E5' 'E6' 'Eb2' 'Eb3' 'Eb4' 'Eb5'\n",
      " 'Eb6' 'F#2' 'F#3' 'F#4' 'F#5' 'F#6' 'F1' 'F2' 'F3' 'F4' 'F5' 'F6' 'G#2'\n",
      " 'G#3' 'G#4' 'G#5' 'G1' 'G2' 'G3' 'G4' 'G5' 'G6']\n",
      "['' 'A1' 'A2' 'A3' 'A4' 'A5' 'A6' 'B1' 'B2' 'B3' 'B4' 'B5' 'Bb1' 'Bb2'\n",
      " 'Bb3' 'Bb4' 'Bb5' 'C#2' 'C#3' 'C#4' 'C#5' 'C2' 'C3' 'C4' 'C5' 'C6' 'D2'\n",
      " 'D3' 'D4' 'D5' 'D6' 'E1' 'E2' 'E3' 'E4' 'E5' 'E6' 'Eb2' 'Eb3' 'Eb4' 'Eb5'\n",
      " 'Eb6' 'F#2' 'F#3' 'F#4' 'F#5' 'F#6' 'F1' 'F2' 'F3' 'F4' 'F5' 'F6' 'G#2'\n",
      " 'G#3' 'G#4' 'G#5' 'G1' 'G2' 'G3' 'G4' 'G5' 'G6']\n",
      "['' 'A1' 'A2' 'A3' 'A4' 'A5' 'A6' 'B1' 'B2' 'B3' 'B4' 'B5' 'Bb1' 'Bb2'\n",
      " 'Bb3' 'Bb4' 'Bb5' 'C#2' 'C#3' 'C#4' 'C#5' 'C2' 'C3' 'C4' 'C5' 'C6' 'D2'\n",
      " 'D3' 'D4' 'D5' 'D6' 'E1' 'E2' 'E3' 'E4' 'E5' 'E6' 'Eb2' 'Eb3' 'Eb4' 'Eb5'\n",
      " 'Eb6' 'F#2' 'F#3' 'F#4' 'F#5' 'F#6' 'F1' 'F2' 'F3' 'F4' 'F5' 'F6' 'G#2'\n",
      " 'G#3' 'G#4' 'G#5' 'G1' 'G2' 'G3' 'G4' 'G5' 'G6']\n",
      "['' 'A1' 'A2' 'A3' 'A4' 'A5' 'A6' 'B1' 'B2' 'B3' 'B4' 'B5' 'Bb1' 'Bb2'\n",
      " 'Bb3' 'Bb4' 'Bb5' 'C#2' 'C#3' 'C#4' 'C#5' 'C2' 'C3' 'C4' 'C5' 'C6' 'D2'\n",
      " 'D3' 'D4' 'D5' 'D6' 'E1' 'E2' 'E3' 'E4' 'E5' 'E6' 'Eb2' 'Eb3' 'Eb4' 'Eb5'\n",
      " 'Eb6' 'F#2' 'F#3' 'F#4' 'F#5' 'F#6' 'F1' 'F2' 'F3' 'F4' 'F5' 'F6' 'G#2'\n",
      " 'G#3' 'G#4' 'G#5' 'G1' 'G2' 'G3' 'G4' 'G5' 'G6']\n",
      "['' 'A1' 'A2' 'A3' 'A4' 'A5' 'A6' 'B1' 'B2' 'B3' 'B4' 'B5' 'Bb1' 'Bb2'\n",
      " 'Bb3' 'Bb4' 'Bb5' 'C#2' 'C#3' 'C#4' 'C#5' 'C2' 'C3' 'C4' 'C5' 'C6' 'D2'\n",
      " 'D3' 'D4' 'D5' 'D6' 'E1' 'E2' 'E3' 'E4' 'E5' 'E6' 'Eb2' 'Eb3' 'Eb4' 'Eb5'\n",
      " 'Eb6' 'F#2' 'F#3' 'F#4' 'F#5' 'F#6' 'F1' 'F2' 'F3' 'F4' 'F5' 'F6' 'G#2'\n",
      " 'G#3' 'G#4' 'G#5' 'G1' 'G2' 'G3' 'G4' 'G5' 'G6']\n",
      "['' 'A1' 'A2' 'A3' 'A4' 'A5' 'A6' 'B1' 'B2' 'B3' 'B4' 'B5' 'Bb1' 'Bb2'\n",
      " 'Bb3' 'Bb4' 'Bb5' 'C#2' 'C#3' 'C#4' 'C#5' 'C2' 'C3' 'C4' 'C5' 'C6' 'D2'\n",
      " 'D3' 'D4' 'D5' 'D6' 'E1' 'E2' 'E3' 'E4' 'E5' 'E6' 'Eb2' 'Eb3' 'Eb4' 'Eb5'\n",
      " 'Eb6' 'F#2' 'F#3' 'F#4' 'F#5' 'F#6' 'F1' 'F2' 'F3' 'F4' 'F5' 'F6' 'G#2'\n",
      " 'G#3' 'G#4' 'G#5' 'G1' 'G2' 'G3' 'G4' 'G5' 'G6']\n",
      "['' 'A1' 'A2' 'A3' 'A4' 'A5' 'A6' 'B1' 'B2' 'B3' 'B4' 'B5' 'Bb1' 'Bb2'\n",
      " 'Bb3' 'Bb4' 'Bb5' 'C#2' 'C#3' 'C#4' 'C#5' 'C2' 'C3' 'C4' 'C5' 'C6' 'D2'\n",
      " 'D3' 'D4' 'D5' 'D6' 'E1' 'E2' 'E3' 'E4' 'E5' 'E6' 'Eb2' 'Eb3' 'Eb4' 'Eb5'\n",
      " 'Eb6' 'F#2' 'F#3' 'F#4' 'F#5' 'F#6' 'F1' 'F2' 'F3' 'F4' 'F5' 'F6' 'G#2'\n",
      " 'G#3' 'G#4' 'G#5' 'G1' 'G2' 'G3' 'G4' 'G5' 'G6']\n",
      "['' 'A1' 'A2' 'A3' 'A4' 'A5' 'A6' 'B1' 'B2' 'B3' 'B4' 'B5' 'Bb1' 'Bb2'\n",
      " 'Bb3' 'Bb4' 'Bb5' 'C#2' 'C#3' 'C#4' 'C#5' 'C2' 'C3' 'C4' 'C5' 'C6' 'D2'\n",
      " 'D3' 'D4' 'D5' 'D6' 'E1' 'E2' 'E3' 'E4' 'E5' 'E6' 'Eb2' 'Eb3' 'Eb4' 'Eb5'\n",
      " 'Eb6' 'F#2' 'F#3' 'F#4' 'F#5' 'F#6' 'F1' 'F2' 'F3' 'F4' 'F5' 'F6' 'G#2'\n",
      " 'G#3' 'G#4' 'G#5' 'G1' 'G2' 'G3' 'G4' 'G5' 'G6']\n",
      "['' 'A1' 'A2' 'A3' 'A4' 'A5' 'A6' 'B1' 'B2' 'B3' 'B4' 'B5' 'Bb1' 'Bb2'\n",
      " 'Bb3' 'Bb4' 'Bb5' 'C#2' 'C#3' 'C#4' 'C#5' 'C2' 'C3' 'C4' 'C5' 'C6' 'D2'\n",
      " 'D3' 'D4' 'D5' 'D6' 'E1' 'E2' 'E3' 'E4' 'E5' 'E6' 'Eb2' 'Eb3' 'Eb4' 'Eb5'\n",
      " 'Eb6' 'F#2' 'F#3' 'F#4' 'F#5' 'F#6' 'F1' 'F2' 'F3' 'F4' 'F5' 'F6' 'G#2'\n",
      " 'G#3' 'G#4' 'G#5' 'G1' 'G2' 'G3' 'G4' 'G5' 'G6']\n",
      "['' 'A1' 'A2' 'A3' 'A4' 'A5' 'A6' 'B1' 'B2' 'B3' 'B4' 'B5' 'Bb1' 'Bb2'\n",
      " 'Bb3' 'Bb4' 'Bb5' 'C#2' 'C#3' 'C#4' 'C#5' 'C2' 'C3' 'C4' 'C5' 'C6' 'D2'\n",
      " 'D3' 'D4' 'D5' 'D6' 'E1' 'E2' 'E3' 'E4' 'E5' 'E6' 'Eb2' 'Eb3' 'Eb4' 'Eb5'\n",
      " 'Eb6' 'F#2' 'F#3' 'F#4' 'F#5' 'F#6' 'F1' 'F2' 'F3' 'F4' 'F5' 'F6' 'G#2'\n",
      " 'G#3' 'G#4' 'G#5' 'G1' 'G2' 'G3' 'G4' 'G5' 'G6']\n"
     ]
    }
   ],
   "source": [
    "from sklearn.preprocessing import LabelEncoder\n",
    "\n",
    "enc = LabelEncoder()\n",
    "enc.fit(X_cat.reshape(X_cat.size))\n",
    "for i in range(sum(cat_features)):\n",
    "    print(enc.classes_)\n",
    "for i in range(sum(cat_features)):\n",
    "    X_cat[:, i] = enc.transform(X_cat[:, i])"
   ]
  },
  {
   "cell_type": "code",
   "execution_count": 37,
   "metadata": {},
   "outputs": [
    {
     "data": {
      "text/plain": [
       "array([['13', '13', '13', ..., '58', '58', '58'],\n",
       "       ['22', '22', '22', ..., '22', '22', '22'],\n",
       "       ['2', '2', '13', ..., '38', '48', '48'],\n",
       "       ...,\n",
       "       ['26', '26', '26', ..., '58', '58', '58'],\n",
       "       ['26', '26', '26', ..., '58', '58', '58'],\n",
       "       ['26', '26', '26', ..., '58', '58', '58']], dtype='<U32')"
      ]
     },
     "execution_count": 37,
     "metadata": {},
     "output_type": "execute_result"
    }
   ],
   "source": [
    "X_cat"
   ]
  },
  {
   "cell_type": "code",
   "execution_count": 38,
   "metadata": {},
   "outputs": [],
   "source": [
    "X = np.hstack([np.int_(X_cat), X_real])"
   ]
  },
  {
   "cell_type": "code",
   "execution_count": 39,
   "metadata": {},
   "outputs": [
    {
     "data": {
      "text/plain": [
       "array([[13, 13, 13, ..., 31, 31, 31],\n",
       "       [22, 22, 22, ..., 36, 36, 36],\n",
       "       [ 2,  2, 13, ..., 39, 41, 41],\n",
       "       ...,\n",
       "       [26, 26, 26, ..., 45, 45, 45],\n",
       "       [26, 26, 26, ..., 45, 45, 45],\n",
       "       [26, 26, 26, ..., 45, 45, 45]])"
      ]
     },
     "execution_count": 39,
     "metadata": {},
     "output_type": "execute_result"
    }
   ],
   "source": [
    "X"
   ]
  },
  {
   "cell_type": "code",
   "execution_count": 42,
   "metadata": {},
   "outputs": [
    {
     "name": "stdout",
     "output_type": "stream",
     "text": [
      "[[ 8  8  8 ... 54 54 54]\n",
      " [ 3  0  3 ... 50 50 50]\n",
      " [27 27 32 ... 33 38 38]\n",
      " ...\n",
      " [24 24 24 ... 33 33 33]\n",
      " [ 0  0 22 ...  0  0  0]\n",
      " [32 32 32 ... 59 57  0]]\n",
      "0.8006130880980941\n",
      "F4 [ 0 50  0 50  0 50  0 50  0 49  0 49  0 49  0 49  0 15  0 15  0 15  0 15\n",
      "  0 24  0 24 49 49 49 49 49 49 49 49 41 41 41 41 41 41 41 41 42 42 42 42\n",
      " 42 42 42 42 44 44 44 44] F4\n"
     ]
    }
   ],
   "source": [
    "from sklearn.model_selection import train_test_split\n",
    "\n",
    "X_train, X_test, y_train, y_test = train_test_split(X, y)\n",
    "\n",
    "from sklearn.ensemble import RandomForestClassifier\n",
    "from sklearn.metrics import accuracy_score\n",
    "from nottingham_test import custom_scorers\n",
    "from sklearn.metrics import make_scorer\n",
    "\n",
    "clf = RandomForestClassifier(n_estimators=20)\n",
    "clf.fit(X_train, y_train)\n",
    "\n",
    "print(X_test)\n",
    "\n",
    "#abs_dist_score = make_scorer(custom_scorers.chords_dist_error)\n",
    "y_pred = clf.predict(X_test)\n",
    "print(accuracy_score(y_test, y_pred))\n",
    "#print(abs_dist_score(clf, X_test, y_test))\n",
    "\n",
    "with open('rf_nottingham.pkl', 'wb') as fid:\n",
    "    pickle.dump(clf, fid)\n",
    "print(y_test[10], X_test[10, :], clf.predict(X_test)[10])"
   ]
  },
  {
   "cell_type": "code",
   "execution_count": null,
   "metadata": {},
   "outputs": [],
   "source": []
  }
 ],
 "metadata": {
  "kernelspec": {
   "display_name": "Python 3",
   "language": "python",
   "name": "python3"
  },
  "language_info": {
   "codemirror_mode": {
    "name": "ipython",
    "version": 3
   },
   "file_extension": ".py",
   "mimetype": "text/x-python",
   "name": "python",
   "nbconvert_exporter": "python",
   "pygments_lexer": "ipython3",
   "version": "3.6.0"
  }
 },
 "nbformat": 4,
 "nbformat_minor": 2
}
