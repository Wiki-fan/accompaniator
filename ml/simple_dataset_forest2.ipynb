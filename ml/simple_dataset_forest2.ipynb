{
 "cells": [
  {
   "cell_type": "code",
   "execution_count": 1,
   "metadata": {},
   "outputs": [],
   "source": [
    "import sys\n",
    "sys.path.append('..')\n",
    "\n",
    "from ml.dataset.corpus import *\n",
    "from ml.dataset.mappers_preprocess import *\n",
    "from ml.dataset.mappers_simplify import *\n",
    "from ml.dataset.mappers_prepare import *\n",
    "from ml.dataset.processor import *\n",
    "from ml.dataset.pipeline import *\n",
    "from ml.dataset.model import *\n",
    "from IPython.core.display import HTML, display\n",
    "\n",
    "import matplotlib.pyplot as plt\n",
    "import pandas as pd\n",
    "import pychord\n",
    "import music21\n",
    "music21.environment.set('musescoreDirectPNGPath', '/usr/bin/musescore')"
   ]
  },
  {
   "cell_type": "code",
   "execution_count": 2,
   "metadata": {},
   "outputs": [],
   "source": [
    "X = np.load('../datasets/simple/X.npy')\n",
    "y = np.load('../datasets/simple/y.npy')"
   ]
  },
  {
   "cell_type": "code",
   "execution_count": 3,
   "metadata": {},
   "outputs": [],
   "source": [
    "pred = Predictor()"
   ]
  },
  {
   "cell_type": "code",
   "execution_count": 4,
   "metadata": {},
   "outputs": [],
   "source": [
    "pred.X = X\n",
    "pred.y = y\n",
    "pred.load_dicts('../datasets/simple/simple_dataset_dicts.pickle')"
   ]
  },
  {
   "cell_type": "code",
   "execution_count": 5,
   "metadata": {},
   "outputs": [
    {
     "name": "stdout",
     "output_type": "stream",
     "text": [
      "Shape:  (44092, 16) (44092, 8)\n",
      "Classes: ['' '-' 'A' 'B-' 'C' 'D' 'E' 'E-' 'F' 'G']\n"
     ]
    }
   ],
   "source": [
    "pred.encode()"
   ]
  },
  {
   "cell_type": "code",
   "execution_count": 6,
   "metadata": {},
   "outputs": [],
   "source": [
    "from sklearn.model_selection import train_test_split\n",
    "\n",
    "X_train, X_test, y_train, y_test = train_test_split(pred.X, pred.y)"
   ]
  },
  {
   "cell_type": "code",
   "execution_count": 7,
   "metadata": {},
   "outputs": [],
   "source": [
    "from sklearn.ensemble import RandomForestClassifier, BaggingClassifier\n",
    "from sklearn.metrics import accuracy_score\n",
    "from nottingham_test import custom_scorers\n",
    "from sklearn.metrics import make_scorer\n",
    "\n",
    "pred.fit( RandomForestClassifier(n_estimators=20), X_train, y_train)"
   ]
  },
  {
   "cell_type": "code",
   "execution_count": 8,
   "metadata": {},
   "outputs": [],
   "source": [
    "y_pred = pred.predict(X_test)"
   ]
  },
  {
   "cell_type": "code",
   "execution_count": 9,
   "metadata": {},
   "outputs": [
    {
     "name": "stdout",
     "output_type": "stream",
     "text": [
      "0.7777374580422752\n"
     ]
    }
   ],
   "source": [
    "print(accuracy_over_axis(y_test, y_pred))"
   ]
  },
  {
   "cell_type": "code",
   "execution_count": 10,
   "metadata": {},
   "outputs": [],
   "source": [
    "pred.dump_clf('../datasets/simple/rf.pickle')"
   ]
  },
  {
   "cell_type": "code",
   "execution_count": null,
   "metadata": {},
   "outputs": [],
   "source": []
  },
  {
   "cell_type": "code",
   "execution_count": 50,
   "metadata": {},
   "outputs": [
    {
     "data": {
      "application/vnd.jupyter.widget-view+json": {
       "model_id": "ce70b26f230949eebc1844b1f01d2608",
       "version_major": 2,
       "version_minor": 0
      },
      "text/plain": [
       "HBox(children=(IntProgress(value=1, bar_style='info', max=1), HTML(value='')))"
      ]
     },
     "metadata": {},
     "output_type": "display_data"
    },
    {
     "name": "stdout",
     "output_type": "stream",
     "text": [
      "\n"
     ]
    }
   ],
   "source": [
    "corpus = SongCorpus()\n",
    "corpus.load_from_file('../datasets/simple/simple_dataset_SimplifyChordsMapper.pickle',max_count=100)"
   ]
  },
  {
   "cell_type": "code",
   "execution_count": 51,
   "metadata": {},
   "outputs": [],
   "source": [
    "song = corpus.songs[40]"
   ]
  },
  {
   "cell_type": "code",
   "execution_count": null,
   "metadata": {},
   "outputs": [],
   "source": [
    "song.get_music21_repr().show()"
   ]
  },
  {
   "cell_type": "code",
   "execution_count": 54,
   "metadata": {},
   "outputs": [
    {
     "data": {
      "text/html": [
       "\n",
       "                <div id='midiPlayerDiv101888'></div>\n",
       "                <link rel=\"stylesheet\" href=\"//cuthbertLab.github.io/music21j/css/m21.css\"\n",
       "                    type=\"text/css\" />\n",
       "                <script>\n",
       "                require.config({\n",
       "                    paths: {'music21': '//cuthbertLab.github.io/music21j/src/music21'}\n",
       "                });\n",
       "                require(['music21'], function() {\n",
       "                               mp = new music21.miditools.MidiPlayer();\n",
       "                               mp.addPlayer('#midiPlayerDiv101888');\n",
       "                               mp.base64Load('data:audio/midi;base64,TVRoZAAAAAYAAQACBABNVHJrAAABRAD/AwAA4ABAAJAnWoQAgCcAAJAnWoQAgCcAhACQJ1qEAIAnAACQJ1qEAIAnAACQJ1qEAIAnAIQAkCNahACAIwCEAJAjWoQAgCMAAJAjWoQAgCMAhACQI1qEAIAjAACQI1qEAIAjAACQI1qEAIAjAIQAkB5ahACAHgAAkB5ahACAHgCEAJAeWoQAgB4AAJAeWoQAgB4AAJAeWoQAgB4AhACQJVqEAIAlAIQAkCVahACAJQAAkCVahACAJQCEAJAlWoQAgCUAAJAlWoQAgCUAAJAlWoQAgCUAhACQJ1qEAIAnAACQJ1qEAIAnAIQAkCdahACAJwAAkCdahACAJwAAkCdahACAJwCEAJAjWoQAgCMAhACQI1qEAIAjAACQI1qEAIAjAIQAkCNahACAIwAAkCNahACAIwAAkCNahACAIwCIAP8vAE1UcmsAAANUAP8DAADgAEAAkDNaAJA3WgCQOlqEAIAzAACANwAAgDoAAJAzWgCQN1oAkDpahACAMwAAgDcAAIA6AIQAkDNaAJA3WgCQOlqEAIAzAACANwAAgDoAAJAzWgCQN1oAkDpahACAMwAAgDcAAIA6AACQM1oAkDdaAJA6WoQAgDMAAIA3AACAOgCEAJAvWgCQM1oAkDZahACALwAAgDMAAIA2AIQAkC9aAJAzWgCQNlqEAIAvAACAMwAAgDYAAJAvWgCQM1oAkDZahACALwAAgDMAAIA2AIQAkC9aAJAzWgCQNlqEAIAvAACAMwAAgDYAAJAvWgCQM1oAkDZahACALwAAgDMAAIA2AACQL1oAkDNaAJA2WoQAgC8AAIAzAACANgCEAJA2WgCQOloAkD1ahACANgAAgDoAAIA9AACQNloAkDpaAJA9WoQAgDYAAIA6AACAPQCEAJA2WgCQOloAkD1ahACANgAAgDoAAIA9AACQNloAkDpaAJA9WoQAgDYAAIA6AACAPQAAkDZaAJA6WgCQPVqEAIA2AACAOgAAgD0AhACQMVoAkDVaAJA4WoQAgDEAAIA1AACAOACEAJAxWgCQNVoAkDhahACAMQAAgDUAAIA4AACQMVoAkDVaAJA4WoQAgDEAAIA1AACAOACEAJAxWgCQNVoAkDhahACAMQAAgDUAAIA4AACQMVoAkDVaAJA4WoQAgDEAAIA1AACAOAAAkDFaAJA1WgCQOFqEAIAxAACANQAAgDgAhACQM1oAkDdaAJA6WoQAgDMAAIA3AACAOgAAkDNaAJA3WgCQOlqEAIAzAACANwAAgDoAhACQM1oAkDdaAJA6WoQAgDMAAIA3AACAOgAAkDNaAJA3WgCQOlqEAIAzAACANwAAgDoAAJAzWgCQN1oAkDpahACAMwAAgDcAAIA6AIQAkC9aAJAzWgCQNlqEAIAvAACAMwAAgDYAhACQL1oAkDNaAJA2WoQAgC8AAIAzAACANgAAkC9aAJAzWgCQNlqEAIAvAACAMwAAgDYAhACQL1oAkDNaAJA2WoQAgC8AAIAzAACANgAAkC9aAJAzWgCQNlqEAIAvAACAMwAAgDYAAJAvWgCQM1oAkDZahACALwAAgDMAAIA2AIgA/y8A');\n",
       "                        });\n",
       "                </script>"
      ],
      "text/plain": [
       "<IPython.core.display.HTML object>"
      ]
     },
     "metadata": {},
     "output_type": "display_data"
    }
   ],
   "source": [
    "song.get_music21_repr().show('midi')"
   ]
  },
  {
   "cell_type": "code",
   "execution_count": null,
   "metadata": {},
   "outputs": [],
   "source": [
    "predicted_song = pred.predict_song(song)"
   ]
  },
  {
   "cell_type": "code",
   "execution_count": null,
   "metadata": {},
   "outputs": [],
   "source": [
    "predicted_song.get_music21_repr().show()"
   ]
  },
  {
   "cell_type": "code",
   "execution_count": 57,
   "metadata": {},
   "outputs": [
    {
     "data": {
      "text/html": [
       "\n",
       "                <div id='midiPlayerDiv105921'></div>\n",
       "                <link rel=\"stylesheet\" href=\"//cuthbertLab.github.io/music21j/css/m21.css\"\n",
       "                    type=\"text/css\" />\n",
       "                <script>\n",
       "                require.config({\n",
       "                    paths: {'music21': '//cuthbertLab.github.io/music21j/src/music21'}\n",
       "                });\n",
       "                require(['music21'], function() {\n",
       "                               mp = new music21.miditools.MidiPlayer();\n",
       "                               mp.addPlayer('#midiPlayerDiv105921');\n",
       "                               mp.base64Load('data:audio/midi;base64,TVRoZAAAAAYAAQACBABNVHJrAAABRAD/AwAA4ABAAJAnWoQAgCcAAJAnWoQAgCcAhACQJ1qEAIAnAACQJ1qEAIAnAACQJ1qEAIAnAIQAkCNahACAIwCEAJAjWoQAgCMAAJAjWoQAgCMAhACQI1qEAIAjAACQI1qEAIAjAACQI1qEAIAjAIQAkB5ahACAHgAAkB5ahACAHgCEAJAeWoQAgB4AAJAeWoQAgB4AAJAeWoQAgB4AhACQJVqEAIAlAIQAkCVahACAJQAAkCVahACAJQCEAJAlWoQAgCUAAJAlWoQAgCUAAJAlWoQAgCUAhACQJ1qEAIAnAACQJ1qEAIAnAIQAkCdahACAJwAAkCdahACAJwAAkCdahACAJwCEAJAjWoQAgCMAhACQI1qEAIAjAACQI1qEAIAjAIQAkCNahACAIwAAkCNahACAIwAAkCNahACAIwCIAP8vAE1UcmsAAAKiAP8DAADgAECgAJAwWgCQNFoAkDdahACAMAAAgDQAAIA3AACQMFoAkDRaAJA3WoQAgDAAAIA0AACANwCEAJAwWgCQNFoAkDdahACAMAAAgDQAAIA3AACQMFoAkDRaAJA3WoQAgDAAAIA0AACANwAAkDBaAJA0WgCQN1qEAIAwAACANAAAgDcAhACQMFoAkDRaAJA3WoQAgDAAAIA0AACANwAAkDNaAJA3WgCQOlqEAIAzAACANwAAgDoAAJAzWgCQN1oAkDpahACAMwAAgDcAAIA6AIgAkDNaAJA3WgCQOlqEAIAzAACANwAAgDoAAJAzWgCQN1oAkDpahACAMwAAgDcAAIA6AIgAkDBaAJA0WgCQN1qEAIAwAACANAAAgDcAAJAwWgCQNFoAkDdahACAMAAAgDQAAIA3AIQAkDBaAJA0WgCQN1qEAIAwAACANAAAgDcAAJAwWgCQNFoAkDdahACAMAAAgDQAAIA3AACQMFoAkDRaAJA3WoQAgDAAAIA0AACANwCEAJAwWgCQNFoAkDdahACAMAAAgDQAAIA3AACQM1oAkDdaAJA6WoQAgDMAAIA3AACAOgAAkDNaAJA3WgCQOlqEAIAzAACANwAAgDoAiACQM1oAkDdaAJA6WoQAgDMAAIA3AACAOgAAkDNaAJA3WgCQOlqEAIAzAACANwAAgDoAiACQMFoAkDRaAJA3WoQAgDAAAIA0AACANwAAkDBaAJA0WgCQN1qEAIAwAACANAAAgDcAhACQMFoAkDRaAJA3WoQAgDAAAIA0AACANwAAkDBaAJA0WgCQN1qEAIAwAACANAAAgDcAAJAwWgCQNFoAkDdahACAMAAAgDQAAIA3AIQAkDBaAJA0WgCQN1qEAIAwAACANAAAgDcAiAD/LwA=');\n",
       "                        });\n",
       "                </script>"
      ],
      "text/plain": [
       "<IPython.core.display.HTML object>"
      ]
     },
     "metadata": {},
     "output_type": "display_data"
    }
   ],
   "source": [
    "predicted_song.get_music21_repr().show('midi')"
   ]
  },
  {
   "cell_type": "code",
   "execution_count": null,
   "metadata": {},
   "outputs": [],
   "source": []
  }
 ],
 "metadata": {
  "kernelspec": {
   "display_name": "Python 3",
   "language": "python",
   "name": "python3"
  },
  "language_info": {
   "codemirror_mode": {
    "name": "ipython",
    "version": 3
   },
   "file_extension": ".py",
   "mimetype": "text/x-python",
   "name": "python",
   "nbconvert_exporter": "python",
   "pygments_lexer": "ipython3",
   "version": "3.6.0"
  }
 },
 "nbformat": 4,
 "nbformat_minor": 2
}
