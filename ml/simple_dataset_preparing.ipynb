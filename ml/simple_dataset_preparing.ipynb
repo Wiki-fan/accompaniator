{
 "cells": [
  {
   "cell_type": "code",
   "execution_count": 11,
   "metadata": {},
   "outputs": [],
   "source": [
    "import sys\n",
    "sys.path.append('..')\n",
    "\n",
    "from ml.dataset.corpus import *\n",
    "from ml.dataset.mappers_preprocess import *\n",
    "from ml.dataset.mappers_simplify import *\n",
    "from ml.dataset.pipeline import *\n",
    "from IPython.core.display import HTML, display\n",
    "\n",
    "import matplotlib.pyplot as plt\n",
    "import pandas as pd\n",
    "import pychord\n",
    "import music21\n",
    "music21.environment.set('musescoreDirectPNGPath', '/usr/bin/musescore')"
   ]
  },
  {
   "cell_type": "code",
   "execution_count": 12,
   "metadata": {},
   "outputs": [],
   "source": [
    "corpus = SongCorpus()"
   ]
  },
  {
   "cell_type": "code",
   "execution_count": 13,
   "metadata": {},
   "outputs": [
    {
     "data": {
      "application/vnd.jupyter.widget-view+json": {
       "model_id": "7bf7cf82699645188f5b7b0531ddc615",
       "version_major": 2,
       "version_minor": 0
      },
      "text/html": [
       "<p>Failed to display Jupyter Widget of type <code>HBox</code>.</p>\n",
       "<p>\n",
       "  If you're reading this message in the Jupyter Notebook or JupyterLab Notebook, it may mean\n",
       "  that the widgets JavaScript is still loading. If this message persists, it\n",
       "  likely means that the widgets JavaScript library is either not installed or\n",
       "  not enabled. See the <a href=\"https://ipywidgets.readthedocs.io/en/stable/user_install.html\">Jupyter\n",
       "  Widgets Documentation</a> for setup instructions.\n",
       "</p>\n",
       "<p>\n",
       "  If you're reading this message in another frontend (for example, a static\n",
       "  rendering on GitHub or <a href=\"https://nbviewer.jupyter.org/\">NBViewer</a>),\n",
       "  it may mean that your frontend doesn't currently support widgets.\n",
       "</p>\n"
      ],
      "text/plain": [
       "HBox(children=(IntProgress(value=1, bar_style='info', max=1), HTML(value='')))"
      ]
     },
     "metadata": {},
     "output_type": "display_data"
    }
   ],
   "source": [
    "corpus.load_from_file('/home/sharik/code/Innprak/simple_dataset/guitar_forest_dataset.pickle', max_count=100)"
   ]
  },
  {
   "cell_type": "code",
   "execution_count": 51,
   "metadata": {},
   "outputs": [],
   "source": [
    "s = corpus.songs[5].get_music21_repr()"
   ]
  },
  {
   "cell_type": "code",
   "execution_count": null,
   "metadata": {},
   "outputs": [],
   "source": [
    "s.show()"
   ]
  },
  {
   "cell_type": "code",
   "execution_count": 57,
   "metadata": {},
   "outputs": [],
   "source": [
    "for c in s[1]:\n",
    "    c.volume.velocity /= 2"
   ]
  },
  {
   "cell_type": "code",
   "execution_count": 58,
   "metadata": {},
   "outputs": [
    {
     "data": {
      "text/plain": [
       "<music21.volume.Volume realized=0.08>"
      ]
     },
     "execution_count": 58,
     "metadata": {},
     "output_type": "execute_result"
    }
   ],
   "source": [
    "s[1][0].volume"
   ]
  },
  {
   "cell_type": "code",
   "execution_count": 74,
   "metadata": {},
   "outputs": [
    {
     "data": {
      "text/html": [
       "\n",
       "                <div id='midiPlayerDiv231375'></div>\n",
       "                <link rel=\"stylesheet\" href=\"//cuthbertLab.github.io/music21j/css/m21.css\"\n",
       "                    type=\"text/css\" />\n",
       "                <script>\n",
       "                require.config({\n",
       "                    paths: {'music21': '//cuthbertLab.github.io/music21j/src/music21'}\n",
       "                });\n",
       "                require(['music21'], function() {\n",
       "                               mp = new music21.miditools.MidiPlayer();\n",
       "                               mp.addPlayer('#midiPlayerDiv231375');\n",
       "                               mp.base64Load('data:audio/midi;base64,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');\n",
       "                        });\n",
       "                </script>"
      ],
      "text/plain": [
       "<IPython.core.display.HTML object>"
      ]
     },
     "metadata": {},
     "output_type": "display_data"
    }
   ],
   "source": [
    "s.show('midi')"
   ]
  },
  {
   "cell_type": "code",
   "execution_count": 7,
   "metadata": {},
   "outputs": [
    {
     "data": {
      "application/vnd.jupyter.widget-view+json": {
       "model_id": "cbf7cd3cb4ee426e84c7ea26a664695b",
       "version_major": 2,
       "version_minor": 0
      },
      "text/html": [
       "<p>Failed to display Jupyter Widget of type <code>HBox</code>.</p>\n",
       "<p>\n",
       "  If you're reading this message in the Jupyter Notebook or JupyterLab Notebook, it may mean\n",
       "  that the widgets JavaScript is still loading. If this message persists, it\n",
       "  likely means that the widgets JavaScript library is either not installed or\n",
       "  not enabled. See the <a href=\"https://ipywidgets.readthedocs.io/en/stable/user_install.html\">Jupyter\n",
       "  Widgets Documentation</a> for setup instructions.\n",
       "</p>\n",
       "<p>\n",
       "  If you're reading this message in another frontend (for example, a static\n",
       "  rendering on GitHub or <a href=\"https://nbviewer.jupyter.org/\">NBViewer</a>),\n",
       "  it may mean that your frontend doesn't currently support widgets.\n",
       "</p>\n"
      ],
      "text/plain": [
       "HBox(children=(IntProgress(value=0, max=16463), HTML(value='')))"
      ]
     },
     "metadata": {},
     "output_type": "display_data"
    },
    {
     "name": "stdout",
     "output_type": "stream",
     "text": [
      "\n"
     ]
    },
    {
     "name": "stderr",
     "output_type": "stream",
     "text": [
      "Exception in thread Thread-5:\n",
      "Traceback (most recent call last):\n",
      "  File \"/home/sharik/.pyenv/versions/3.6.0/lib/python3.6/threading.py\", line 916, in _bootstrap_inner\n",
      "    self.run()\n",
      "  File \"/home/sharik/.pyenv/versions/3.6.0/lib/python3.6/site-packages/tqdm/_tqdm.py\", line 148, in run\n",
      "    for instance in self.tqdm_cls._instances:\n",
      "  File \"/home/sharik/.pyenv/versions/3.6.0/lib/python3.6/_weakrefset.py\", line 60, in __iter__\n",
      "    for itemref in self.data:\n",
      "RuntimeError: Set changed size during iteration\n",
      "\n"
     ]
    },
    {
     "name": "stdout",
     "output_type": "stream",
     "text": [
      "\n"
     ]
    },
    {
     "data": {
      "text/plain": [
       "{\"('SplitToGcdMapper', 'gcd')\": {4: 1921,\n",
       "  8: 2844,\n",
       "  12: 4,\n",
       "  16: 22723,\n",
       "  20: 2,\n",
       "  24: 10,\n",
       "  32: 2463,\n",
       "  48: 339,\n",
       "  64: 1304,\n",
       "  80: 1,\n",
       "  96: 258,\n",
       "  128: 990,\n",
       "  160: 30,\n",
       "  192: 22,\n",
       "  256: 15}}"
      ]
     },
     "execution_count": 7,
     "metadata": {},
     "output_type": "execute_result"
    }
   ],
   "source": [
    "corpus.pipeline.mappers = [SplitToGcdMapper(what='all')]\n",
    "corpus.apply_pipeline_to_memory()"
   ]
  },
  {
   "cell_type": "code",
   "execution_count": 8,
   "metadata": {},
   "outputs": [],
   "source": [
    "corpus.save_to_file('/home/sharik/code/Innprak/simple_dataset/guitar_forest_dataset.pickle')"
   ]
  },
  {
   "cell_type": "code",
   "execution_count": 9,
   "metadata": {},
   "outputs": [],
   "source": [
    "def map_many(iterable, function, *other):\n",
    "    if other:\n",
    "        return map_many(map(function, iterable), *other)\n",
    "    return map(function, iterable)\n",
    "\n",
    "def apply_many(elem, function, *other):\n",
    "    if other:\n",
    "        return apply_many(function(elem), *other)\n",
    "    return function(elem)\n"
   ]
  },
  {
   "cell_type": "code",
   "execution_count": 10,
   "metadata": {},
   "outputs": [
    {
     "data": {
      "application/vnd.jupyter.widget-view+json": {
       "model_id": "4e1e8dfd16304c06b0b41dbbc7f079b4",
       "version_major": 2,
       "version_minor": 0
      },
      "text/html": [
       "<p>Failed to display Jupyter Widget of type <code>HBox</code>.</p>\n",
       "<p>\n",
       "  If you're reading this message in the Jupyter Notebook or JupyterLab Notebook, it may mean\n",
       "  that the widgets JavaScript is still loading. If this message persists, it\n",
       "  likely means that the widgets JavaScript library is either not installed or\n",
       "  not enabled. See the <a href=\"https://ipywidgets.readthedocs.io/en/stable/user_install.html\">Jupyter\n",
       "  Widgets Documentation</a> for setup instructions.\n",
       "</p>\n",
       "<p>\n",
       "  If you're reading this message in another frontend (for example, a static\n",
       "  rendering on GitHub or <a href=\"https://nbviewer.jupyter.org/\">NBViewer</a>),\n",
       "  it may mean that your frontend doesn't currently support widgets.\n",
       "</p>\n"
      ],
      "text/plain": [
       "HBox(children=(IntProgress(value=0, max=12356), HTML(value='')))"
      ]
     },
     "metadata": {},
     "output_type": "display_data"
    },
    {
     "name": "stdout",
     "output_type": "stream",
     "text": [
      "\n"
     ]
    }
   ],
   "source": [
    "chords_set = set()\n",
    "cache = dict()\n",
    "final_dict = dict()\n",
    "\n",
    "for song in tqdm.tqdm_notebook(corpus.songs):\n",
    "    for chord in song.chord_track.chords:\n",
    "        if chord.notes != []:\n",
    "            if tuple(chord.notes) not in cache:\n",
    "                s = chord.get_music21_repr().pitchedCommonName\n",
    "                final_s = apply_many(s,\n",
    "                                 lambda s: s.split(' ')[0],\n",
    "                                 lambda s: s[:3],\n",
    "                                 lambda s: s[:2] if s[2] == '-' else s, \n",
    "                                 lambda s: s.replace('-', 'b'))\n",
    "                final_dict[tuple(chord.notes)] = final_s\n",
    "                cache[tuple(chord.notes)] = s\n",
    "                chords_set.add(final_s)"
   ]
  },
  {
   "cell_type": "code",
   "execution_count": 11,
   "metadata": {},
   "outputs": [
    {
     "data": {
      "text/plain": [
       "67"
      ]
     },
     "execution_count": 11,
     "metadata": {},
     "output_type": "execute_result"
    }
   ],
   "source": [
    "len(chords_set)"
   ]
  },
  {
   "cell_type": "code",
   "execution_count": 12,
   "metadata": {},
   "outputs": [],
   "source": [
    "learning_songs = []\n",
    "for song in corpus.songs:\n",
    "    melody = [0 if not chord.notes else chord.notes[0].number for chord in song.melody_track.chords]\n",
    "    rhythm = ['' if not chord.notes else final_dict[tuple(chord.notes)] for chord in song.chord_track.chords]\n",
    "    learning_songs.append([melody, rhythm])"
   ]
  },
  {
   "cell_type": "code",
   "execution_count": 13,
   "metadata": {},
   "outputs": [],
   "source": [
    "del corpus"
   ]
  },
  {
   "cell_type": "code",
   "execution_count": 20,
   "metadata": {},
   "outputs": [],
   "source": [
    "def cut_song(song, len_sample=10):\n",
    "    notes = np.array(song[0])\n",
    "    chords = np.array(song[1])\n",
    "    n = len(song[0])\n",
    "    \n",
    "    X, y = np.ndarray(shape=(0, len_sample*2)), []\n",
    "    for i in range(0, n-len_sample):\n",
    "        X_notes = notes[i:i+len_sample]\n",
    "        X_chords = chords[i:i+len_sample]\n",
    "        \n",
    "        X_cur = np.hstack([X_notes, X_chords])\n",
    "        y_cur = chords[i+len_sample]\n",
    "        \n",
    "        X = np.vstack([X, X_cur])\n",
    "        y.append(y_cur)\n",
    "    return X, y"
   ]
  },
  {
   "cell_type": "code",
   "execution_count": 21,
   "metadata": {},
   "outputs": [
    {
     "data": {
      "application/vnd.jupyter.widget-view+json": {
       "model_id": "097540cd8216494b84ab0ead9596a5ee",
       "version_major": 2,
       "version_minor": 0
      },
      "text/html": [
       "<p>Failed to display Jupyter Widget of type <code>HBox</code>.</p>\n",
       "<p>\n",
       "  If you're reading this message in the Jupyter Notebook or JupyterLab Notebook, it may mean\n",
       "  that the widgets JavaScript is still loading. If this message persists, it\n",
       "  likely means that the widgets JavaScript library is either not installed or\n",
       "  not enabled. See the <a href=\"https://ipywidgets.readthedocs.io/en/stable/user_install.html\">Jupyter\n",
       "  Widgets Documentation</a> for setup instructions.\n",
       "</p>\n",
       "<p>\n",
       "  If you're reading this message in another frontend (for example, a static\n",
       "  rendering on GitHub or <a href=\"https://nbviewer.jupyter.org/\">NBViewer</a>),\n",
       "  it may mean that your frontend doesn't currently support widgets.\n",
       "</p>\n"
      ],
      "text/plain": [
       "HBox(children=(IntProgress(value=0, max=12356), HTML(value='')))"
      ]
     },
     "metadata": {},
     "output_type": "display_data"
    },
    {
     "ename": "KeyboardInterrupt",
     "evalue": "",
     "output_type": "error",
     "traceback": [
      "\u001b[0;31m---------------------------------------------------------------------------\u001b[0m",
      "\u001b[0;31mKeyboardInterrupt\u001b[0m                         Traceback (most recent call last)",
      "\u001b[0;32m<ipython-input-21-d4f9f07878f3>\u001b[0m in \u001b[0;36m<module>\u001b[0;34m()\u001b[0m\n\u001b[1;32m      5\u001b[0m     \u001b[0;32mif\u001b[0m \u001b[0mlen\u001b[0m\u001b[0;34m(\u001b[0m\u001b[0msong\u001b[0m\u001b[0;34m[\u001b[0m\u001b[0;36m0\u001b[0m\u001b[0;34m]\u001b[0m\u001b[0;34m)\u001b[0m \u001b[0;34m>\u001b[0m \u001b[0mlen_sample\u001b[0m\u001b[0;34m:\u001b[0m\u001b[0;34m\u001b[0m\u001b[0m\n\u001b[1;32m      6\u001b[0m         \u001b[0mX_\u001b[0m\u001b[0;34m,\u001b[0m \u001b[0my_\u001b[0m \u001b[0;34m=\u001b[0m \u001b[0mcut_song\u001b[0m\u001b[0;34m(\u001b[0m\u001b[0msong\u001b[0m\u001b[0;34m,\u001b[0m \u001b[0mlen_sample\u001b[0m\u001b[0;34m)\u001b[0m\u001b[0;34m\u001b[0m\u001b[0m\n\u001b[0;32m----> 7\u001b[0;31m         \u001b[0mX\u001b[0m \u001b[0;34m=\u001b[0m \u001b[0mnp\u001b[0m\u001b[0;34m.\u001b[0m\u001b[0mvstack\u001b[0m\u001b[0;34m(\u001b[0m\u001b[0;34m[\u001b[0m\u001b[0mX\u001b[0m\u001b[0;34m,\u001b[0m \u001b[0mX_\u001b[0m\u001b[0;34m]\u001b[0m\u001b[0;34m)\u001b[0m\u001b[0;34m\u001b[0m\u001b[0m\n\u001b[0m\u001b[1;32m      8\u001b[0m         \u001b[0my\u001b[0m \u001b[0;34m=\u001b[0m \u001b[0mnp\u001b[0m\u001b[0;34m.\u001b[0m\u001b[0mhstack\u001b[0m\u001b[0;34m(\u001b[0m\u001b[0;34m[\u001b[0m\u001b[0my\u001b[0m\u001b[0;34m,\u001b[0m \u001b[0my_\u001b[0m\u001b[0;34m]\u001b[0m\u001b[0;34m)\u001b[0m\u001b[0;34m\u001b[0m\u001b[0m\n\u001b[1;32m      9\u001b[0m \u001b[0;31m#     except ValueError as e:\u001b[0m\u001b[0;34m\u001b[0m\u001b[0;34m\u001b[0m\u001b[0m\n",
      "\u001b[0;32m~/.pyenv/versions/3.6.0/lib/python3.6/site-packages/numpy/core/shape_base.py\u001b[0m in \u001b[0;36mvstack\u001b[0;34m(tup)\u001b[0m\n\u001b[1;32m    232\u001b[0m \u001b[0;34m\u001b[0m\u001b[0m\n\u001b[1;32m    233\u001b[0m     \"\"\"\n\u001b[0;32m--> 234\u001b[0;31m     \u001b[0;32mreturn\u001b[0m \u001b[0m_nx\u001b[0m\u001b[0;34m.\u001b[0m\u001b[0mconcatenate\u001b[0m\u001b[0;34m(\u001b[0m\u001b[0;34m[\u001b[0m\u001b[0matleast_2d\u001b[0m\u001b[0;34m(\u001b[0m\u001b[0m_m\u001b[0m\u001b[0;34m)\u001b[0m \u001b[0;32mfor\u001b[0m \u001b[0m_m\u001b[0m \u001b[0;32min\u001b[0m \u001b[0mtup\u001b[0m\u001b[0;34m]\u001b[0m\u001b[0;34m,\u001b[0m \u001b[0;36m0\u001b[0m\u001b[0;34m)\u001b[0m\u001b[0;34m\u001b[0m\u001b[0m\n\u001b[0m\u001b[1;32m    235\u001b[0m \u001b[0;34m\u001b[0m\u001b[0m\n\u001b[1;32m    236\u001b[0m \u001b[0;32mdef\u001b[0m \u001b[0mhstack\u001b[0m\u001b[0;34m(\u001b[0m\u001b[0mtup\u001b[0m\u001b[0;34m)\u001b[0m\u001b[0;34m:\u001b[0m\u001b[0;34m\u001b[0m\u001b[0m\n",
      "\u001b[0;31mKeyboardInterrupt\u001b[0m: "
     ]
    }
   ],
   "source": [
    "len_sample = 10\n",
    "X, y = np.ndarray(shape=(0, len_sample*2)), []\n",
    "for song in tqdm.tqdm_notebook(learning_songs):\n",
    "#     try:\n",
    "    if len(song[0]) > len_sample:\n",
    "        X_, y_ = cut_song(song, len_sample)\n",
    "        X = np.vstack([X, X_])\n",
    "        y = np.hstack([y, y_])\n",
    "#     except ValueError as e:\n",
    "#         print(\"Something wrong:\", e)\n",
    "#         #print(song)\n",
    "        "
   ]
  },
  {
   "cell_type": "code",
   "execution_count": 16,
   "metadata": {},
   "outputs": [],
   "source": [
    "def cut_song2(song, num_tacts, l_min_note, with_chords=True, delay=4):  # 3 arrays: notes, chords, beat\n",
    "    l_piece = num_tacts * l_min_note\n",
    "    #print('l_piece', l_piece)\n",
    "    notes = np.array(song[0])\n",
    "    chords = np.array(song[1])\n",
    "    n = len(song[0])\n",
    "    #print('n', n, len(song[1]))\n",
    "    n_items = n // l_piece - 1\n",
    "    #print('n_items', n_items)\n",
    "    #print('n_items*l_piece', n_items*l_piece)\n",
    "    X_notes = notes[:n_items * l_piece].reshape((n_items, l_piece))[:, :-delay]\n",
    "    X_chords = chords[:n_items * l_piece].reshape((n_items, l_piece))[:, :-delay]\n",
    "\n",
    "    X = np.hstack([X_notes, X_chords])\n",
    "    y = np.array([chords[l_piece * (i + 1) + 1] for i in range(n_items)])\n",
    "    return X, y"
   ]
  },
  {
   "cell_type": "code",
   "execution_count": 50,
   "metadata": {},
   "outputs": [
    {
     "data": {
      "application/vnd.jupyter.widget-view+json": {
       "model_id": "b9bdefe6ae3143c3911e3d9399448cdb",
       "version_major": 2,
       "version_minor": 0
      },
      "text/html": [
       "<p>Failed to display Jupyter Widget of type <code>HBox</code>.</p>\n",
       "<p>\n",
       "  If you're reading this message in the Jupyter Notebook or JupyterLab Notebook, it may mean\n",
       "  that the widgets JavaScript is still loading. If this message persists, it\n",
       "  likely means that the widgets JavaScript library is either not installed or\n",
       "  not enabled. See the <a href=\"https://ipywidgets.readthedocs.io/en/stable/user_install.html\">Jupyter\n",
       "  Widgets Documentation</a> for setup instructions.\n",
       "</p>\n",
       "<p>\n",
       "  If you're reading this message in another frontend (for example, a static\n",
       "  rendering on GitHub or <a href=\"https://nbviewer.jupyter.org/\">NBViewer</a>),\n",
       "  it may mean that your frontend doesn't currently support widgets.\n",
       "</p>\n"
      ],
      "text/plain": [
       "HBox(children=(IntProgress(value=0, max=12356), HTML(value='')))"
      ]
     },
     "metadata": {},
     "output_type": "display_data"
    }
   ],
   "source": [
    "songs = learning_songs\n",
    "n_tacts = 2\n",
    "X, y = np.ndarray(shape=(0, 56)), []\n",
    "for song in tqdm.tqdm_notebook(songs):\n",
    "#     try:\n",
    "    if len(song[0]) > 32:\n",
    "        X_, y_ = cut_song2(song, n_tacts, 16, with_chords=True)\n",
    "        X = np.vstack([X, X_])\n",
    "        y = np.hstack([y, y_])\n",
    "#     except ValueError as e:\n",
    "#         print(\"Something wrong:\", e)\n",
    "#         #print(song)\n",
    "        "
   ]
  },
  {
   "cell_type": "code",
   "execution_count": 22,
   "metadata": {},
   "outputs": [
    {
     "data": {
      "text/plain": [
       "((618836, 20), (618836,))"
      ]
     },
     "execution_count": 22,
     "metadata": {},
     "output_type": "execute_result"
    }
   ],
   "source": [
    "X.shape, y.shape"
   ]
  },
  {
   "cell_type": "code",
   "execution_count": 23,
   "metadata": {},
   "outputs": [
    {
     "name": "stdout",
     "output_type": "stream",
     "text": [
      "['34' '34' '34' '34' '34' '34' '36' '36' '36' '36' 'Bb2' 'Bb2' 'Bb2' 'Bb2'\n",
      " 'Bb2' 'Bb2' 'C3' 'C3' 'C3' 'C3'] C3\n",
      "(618836, 20) (618836,)\n"
     ]
    }
   ],
   "source": [
    "print(X[0], y[0])\n",
    "print(X.shape, y.shape)\n",
    "np.save('X_simple_my.npy', X)\n",
    "np.save('y_simple_my.npy', y)"
   ]
  },
  {
   "cell_type": "code",
   "execution_count": null,
   "metadata": {},
   "outputs": [],
   "source": []
  }
 ],
 "metadata": {
  "kernelspec": {
   "display_name": "Python 3",
   "language": "python",
   "name": "python3"
  },
  "language_info": {
   "codemirror_mode": {
    "name": "ipython",
    "version": 3
   },
   "file_extension": ".py",
   "mimetype": "text/x-python",
   "name": "python",
   "nbconvert_exporter": "python",
   "pygments_lexer": "ipython3",
   "version": "3.6.0"
  }
 },
 "nbformat": 4,
 "nbformat_minor": 2
}
