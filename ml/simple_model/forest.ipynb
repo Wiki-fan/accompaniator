{
 "cells": [
  {
   "cell_type": "code",
   "execution_count": 2,
   "metadata": {},
   "outputs": [],
   "source": [
    "import sys\n",
    "sys.path.append('../..')\n",
    "\n",
    "from ml.dataset.corpus import *\n",
    "from ml.dataset.mappers_preprocess import *\n",
    "from ml.dataset.mappers_simplify import *\n",
    "from ml.dataset.mappers_prepare import *\n",
    "from ml.dataset.processor import *\n",
    "from ml.dataset.pipeline import *\n",
    "from ml.dataset.base_predictor import *\n",
    "from IPython.core.display import HTML, display\n",
    "\n",
    "import matplotlib.pyplot as plt\n",
    "import pandas as pd\n",
    "import pychord\n",
    "import music21\n",
    "music21.environment.set('musescoreDirectPNGPath', '/usr/bin/musescore')\n",
    "DATASET_HOME='../../datasets/'"
   ]
  },
  {
   "cell_type": "code",
   "execution_count": 3,
   "metadata": {},
   "outputs": [],
   "source": [
    "X = np.load(DATASET_HOME+'simple/X.npy')\n",
    "y = np.load(DATASET_HOME+'simple/y.npy')"
   ]
  },
  {
   "cell_type": "code",
   "execution_count": 8,
   "metadata": {},
   "outputs": [
    {
     "name": "stdout",
     "output_type": "stream",
     "text": [
      "Shape:  (44092, 16) (44092, 8)\n",
      "Classes: ['' '-' 'A' 'B-' 'C' 'D' 'E' 'E-' 'F' 'G']\n"
     ]
    }
   ],
   "source": [
    "from sklearn.preprocessing import LabelEncoder\n",
    "\n",
    "class ForestPredictor(BasePredictor):\n",
    "    def fit(self, clf, X_train, y_train):\n",
    "        self.clf = clf\n",
    "        self.clf.fit(X_train, y_train)\n",
    "\n",
    "    def predict(self, X):\n",
    "        return self.clf.predict(X).astype(np.int64)\n",
    "    \n",
    "    def encode(self):\n",
    "        print('Shape: ', self.X.shape, self.y.shape)\n",
    "        self.X_cat_mask = np.array([type(val) == str for val in self.X[0]])\n",
    "        self.X_num_mask = np.logical_not(self.X_cat_mask)\n",
    "\n",
    "        X_cat = self.X[:, self.X_cat_mask]\n",
    "        X_num = self.X[:, self.X_num_mask]\n",
    "\n",
    "        self.enc = LabelEncoder()\n",
    "        self.enc.fit(np.hstack([X_cat.flatten(), self.y.flatten()]))\n",
    "        print('Classes:', self.enc.classes_)\n",
    "        for i in range(sum(self.X_cat_mask)):\n",
    "            X_cat[:, i] = self.enc.transform(X_cat[:, i])\n",
    "            self.y[:, i] = self.enc.transform(self.y[:, i])\n",
    "\n",
    "        self.X = np.hstack([X_cat, X_num])\n",
    "\n",
    "        self.X = self.X.astype(np.int64)\n",
    "        self.y = self.y.astype(np.int64)\n",
    "        \n",
    "    def predict_song(self, song_c, preview=1, measure_length=8):\n",
    "        song = self.ccm.process(song_c)[0]\n",
    "\n",
    "        predicted = ['']*(measure_length*preview)\n",
    "        for i in range(preview, len(song[0]) // measure_length):\n",
    "            # melody history + chords history + current melody\n",
    "            x = np.array(song[0][(i - preview) * measure_length:i * measure_length] + \\\n",
    "                         song[1][(i - preview) * measure_length:i * measure_length])\n",
    "            # current chords\n",
    "            y = np.array(song[1][i * measure_length:(i + 1) * measure_length])\n",
    "            x_cat = x[self.X_cat_mask]\n",
    "            x_num = x[self.X_num_mask]\n",
    "            for i in range(sum(self.X_cat_mask)):\n",
    "                x_cat[i] = self.enc.transform([x_cat[i]])[0]\n",
    "                y[i] = self.enc.transform([y[i]])[0]\n",
    "            x = np.hstack([x_num, x_cat])\n",
    "\n",
    "            y_pred = self.clf.predict([x]).astype(np.int64)[0]\n",
    "            predicted += list(self.enc.inverse_transform(y_pred))\n",
    "\n",
    "        predicted_song = self.ccm.inverse_process([[], predicted])\n",
    "        predicted_song.tracks[0] = deepcopy(song_c.tracks[0])\n",
    "        return predicted_song\n",
    "    \n",
    "pred = ForestPredictor()\n",
    "pred.X = X\n",
    "pred.y = y\n",
    "pred.load_dicts(DATASET_HOME+'simple/simple_dataset_dicts.pickle')\n",
    "pred.encode()"
   ]
  },
  {
   "cell_type": "code",
   "execution_count": null,
   "metadata": {},
   "outputs": [],
   "source": [
    "from sklearn.model_selection import train_test_split\n",
    "\n",
    "X_train, X_test, y_train, y_test = train_test_split(pred.X, pred.y)"
   ]
  },
  {
   "cell_type": "code",
   "execution_count": null,
   "metadata": {},
   "outputs": [],
   "source": [
    "from sklearn.ensemble import RandomForestClassifier, BaggingClassifier\n",
    "from sklearn.metrics import accuracy_score\n",
    "from sklearn.metrics import make_scorer\n",
    "\n",
    "pred.fit( RandomForestClassifier(n_estimators=20), X_train, y_train)"
   ]
  },
  {
   "cell_type": "code",
   "execution_count": null,
   "metadata": {},
   "outputs": [],
   "source": [
    "y_pred = pred.predict(X_test)"
   ]
  },
  {
   "cell_type": "code",
   "execution_count": null,
   "metadata": {},
   "outputs": [],
   "source": [
    "print(accuracy_over_axis(y_test, y_pred))"
   ]
  },
  {
   "cell_type": "code",
   "execution_count": null,
   "metadata": {},
   "outputs": [],
   "source": [
    "pred.dump_clf(DATASET_HOME+'simple/rf.pickle')"
   ]
  },
  {
   "cell_type": "code",
   "execution_count": null,
   "metadata": {},
   "outputs": [],
   "source": []
  },
  {
   "cell_type": "code",
   "execution_count": null,
   "metadata": {},
   "outputs": [],
   "source": [
    "corpus = SongCorpus()\n",
    "corpus.load_from_file(DATASET_HOME+'simple/simple_dataset_SimplifyChordsMapper.pickle',max_count=100)"
   ]
  },
  {
   "cell_type": "code",
   "execution_count": null,
   "metadata": {},
   "outputs": [],
   "source": [
    "song = corpus.songs[30]"
   ]
  },
  {
   "cell_type": "code",
   "execution_count": null,
   "metadata": {},
   "outputs": [],
   "source": [
    "song"
   ]
  },
  {
   "cell_type": "code",
   "execution_count": null,
   "metadata": {},
   "outputs": [],
   "source": [
    "song.get_music21_repr().show()"
   ]
  },
  {
   "cell_type": "code",
   "execution_count": null,
   "metadata": {},
   "outputs": [],
   "source": [
    "song.get_music21_repr().show('midi')"
   ]
  },
  {
   "cell_type": "code",
   "execution_count": null,
   "metadata": {},
   "outputs": [],
   "source": [
    "predicted_song = pred.predict_song(song)"
   ]
  },
  {
   "cell_type": "code",
   "execution_count": null,
   "metadata": {},
   "outputs": [],
   "source": [
    "predicted_song.get_music21_repr().show()"
   ]
  },
  {
   "cell_type": "code",
   "execution_count": null,
   "metadata": {},
   "outputs": [],
   "source": [
    "predicted_song.get_music21_repr().show('midi')"
   ]
  },
  {
   "cell_type": "code",
   "execution_count": null,
   "metadata": {},
   "outputs": [],
   "source": []
  }
 ],
 "metadata": {
  "kernelspec": {
   "display_name": "Python 3",
   "language": "python",
   "name": "python3"
  },
  "language_info": {
   "codemirror_mode": {
    "name": "ipython",
    "version": 3
   },
   "file_extension": ".py",
   "mimetype": "text/x-python",
   "name": "python",
   "nbconvert_exporter": "python",
   "pygments_lexer": "ipython3",
   "version": "3.6.0"
  }
 },
 "nbformat": 4,
 "nbformat_minor": 2
}
