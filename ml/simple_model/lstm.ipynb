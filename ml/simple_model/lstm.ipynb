{
 "cells": [
  {
   "cell_type": "code",
   "execution_count": null,
   "metadata": {},
   "outputs": [],
   "source": [
    "import sys\n",
    "sys.path.append('../..')\n",
    "\n",
    "import pickle\n",
    "\n",
    "from ml.dataset.corpus import *\n",
    "from ml.dataset.base_predictor import *\n",
    "import numpy as np\n",
    "\n",
    "import pandas as pd\n",
    "\n",
    "%matplotlib inline\n",
    "import matplotlib.pyplot as plt\n",
    "\n",
    "from sklearn.cross_validation import train_test_split\n",
    "from sklearn.preprocessing import LabelEncoder\n",
    "\n",
    "import keras\n",
    "from keras.models import load_model\n",
    "\n",
    "from keras.layers import LSTM, Embedding\n",
    "from keras.optimizers import RMSprop\n",
    "\n",
    "from keras.models import Sequential\n",
    "from keras.layers.core import Dense, Activation\n",
    "from keras.utils import np_utils\n",
    "from keras.engine.topology import Input\n",
    "\n",
    "from sklearn.metrics import accuracy_score\n",
    "from keras.layers import concatenate\n",
    "from keras.layers.merge import Concatenate\n",
    "\n",
    "from keras.utils import to_categorical\n",
    "\n",
    "from matplotlib import pyplot as plt\n",
    "from IPython.display import clear_output\n",
    "DATASET_HOME='../../datasets/'"
   ]
  },
  {
   "cell_type": "code",
   "execution_count": null,
   "metadata": {},
   "outputs": [],
   "source": [
    "with open(DATASET_HOME+'simple/simple_dataset_ClassifyChordsMapper.pickle', 'rb') as f:\n",
    "    songs = pickle.load(f)"
   ]
  },
  {
   "cell_type": "code",
   "execution_count": null,
   "metadata": {},
   "outputs": [],
   "source": []
  },
  {
   "cell_type": "code",
   "execution_count": null,
   "metadata": {},
   "outputs": [],
   "source": [
    "model_chords_input = Input((334, ), batch_shape=(1,1))\n",
    "model_chords_embedding = Embedding(794, 20, input_length=1, batch_input_shape=(1,1))(model_chords_input)\n",
    "model_notes_input = Input((334, ), batch_shape=(1,1))\n",
    "model_notes_embedding = Embedding(128, 20, input_length=1, batch_input_shape=(1,1))(model_notes_input)"
   ]
  },
  {
   "cell_type": "code",
   "execution_count": null,
   "metadata": {},
   "outputs": [],
   "source": [
    "merged = keras.layers.concatenate([model_chords_embedding, model_notes_embedding])\n",
    "\n",
    "lstm = LSTM(20, stateful=True)(merged)\n",
    "model_dense = Dense(794, activation='softmax')(lstm)\n",
    "\n",
    "merged_model = keras.Model(inputs=[model_chords_input, model_notes_input], outputs=model_dense)\n",
    "merged_model.compile(optimizer='adam',loss='sparse_categorical_crossentropy',metrics=['accuracy'])"
   ]
  },
  {
   "cell_type": "code",
   "execution_count": null,
   "metadata": {},
   "outputs": [],
   "source": []
  },
  {
   "cell_type": "code",
   "execution_count": null,
   "metadata": {},
   "outputs": [],
   "source": [
    "from sklearn.model_selection import train_test_split\n",
    "X_train, X_test, y_train, y_test = train_test_split(allX, allY)"
   ]
  },
  {
   "cell_type": "code",
   "execution_count": null,
   "metadata": {},
   "outputs": [],
   "source": [
    "all_len = 0\n",
    "acc = 0\n",
    "for i, (x, y) in enumerate(zip(X_train, y_train)):\n",
    "    print(i)\n",
    "    merged_model.fit(x, y, epochs=1, batch_size=1, verbose=1)\n",
    "    acc += merged_model.evaluate(x, y, batch_size=1)[1] * len(y)\n",
    "    all_len += len(y)\n",
    "    print(\"current_accuracy: \", acc / all_len)\n",
    "    merged_model.reset_states()"
   ]
  },
  {
   "cell_type": "code",
   "execution_count": null,
   "metadata": {},
   "outputs": [],
   "source": [
    "merged_model.save(DATASET_HOME+\"simple/LSTM.h5\")"
   ]
  },
  {
   "cell_type": "code",
   "execution_count": null,
   "metadata": {},
   "outputs": [],
   "source": [
    "merged_model = keras.models.load_model(DATASET_HOME+\"simple/LSTM.h5\")"
   ]
  },
  {
   "cell_type": "code",
   "execution_count": null,
   "metadata": {},
   "outputs": [],
   "source": []
  },
  {
   "cell_type": "code",
   "execution_count": null,
   "metadata": {},
   "outputs": [],
   "source": [
    "corpus = SongCorpus()\n",
    "corpus.load_from_file(DATASET_HOME+'simple/simple_dataset_SimplifyChordsMapper.pickle',max_count=100)"
   ]
  },
  {
   "cell_type": "code",
   "execution_count": null,
   "metadata": {},
   "outputs": [],
   "source": [
    "class LstmPredictor(BasePredictor):\n",
    "    def encode(self, songs):\n",
    "        self.enc = LabelEncoder()\n",
    "        self.enc.fit(np.hstack([song[1] for song in songs]))\n",
    "        \n",
    "        allX, allY = [], []\n",
    "        for i, song in enumerate(songs):\n",
    "            X_notes, X_chords, y = self.encode_song(song)\n",
    "\n",
    "            allX.append([X_notes, X_chords])\n",
    "            allY.append(y)\n",
    "        \n",
    "        return allX, allY\n",
    "    \n",
    "    def encode_song(self, song):\n",
    "        X_notes = np.array(song[0][:-1])\n",
    "        X_chords = enc.transform(song[1][:-1])\n",
    "        y = enc.transform(song[1][1:])\n",
    "        return X_notes, X_chords, y\n",
    "\n",
    "    def predict_song(self, song_c, startwith='pause'):\n",
    "        song = self.ccm.process(song_c)[0]\n",
    "\n",
    "        X_chords, X_notes, y = self.encode_song(song)\n",
    "    \n",
    "        if startwith == 'pause':\n",
    "            chords = [self.enc.transform([''])[0]]\n",
    "        elif startwith == 'triad':\n",
    "            chords = [self.enc.transform([song_c.melody_track.chords[0].notes[0].get_music21_repr().name])[0]]\n",
    "        \n",
    "        for note in X_notes:\n",
    "            predicted_chord_num = merged_model.predict(\n",
    "                [np.array([chords[-1]]), np.array([note])], \n",
    "                batch_size=1).argmax()\n",
    "            \n",
    "            chords.append(predicted_chord_num)\n",
    "        chords = [self.enc.inverse_transform(num) for num in chords]\n",
    "        merged_model.reset_states()\n",
    "        \n",
    "        predicted_song = deepcopy(song_c)\n",
    "        inversed = self.ccm.inverse_process([[], chords])\n",
    "        predicted_song.chord_track.chords = inversed.chord_track.chords\n",
    "        return predicted_song"
   ]
  },
  {
   "cell_type": "code",
   "execution_count": null,
   "metadata": {},
   "outputs": [],
   "source": [
    "pred = LstmPredictor()\n",
    "allX, allY = pred.encode(songs)\n",
    "pred.load_dicts(DATASET_HOME+'simple/simple_dataset_dicts.pickle')"
   ]
  },
  {
   "cell_type": "code",
   "execution_count": null,
   "metadata": {},
   "outputs": [],
   "source": [
    "predicted_song = pred.predict_song(corpus.songs[0], startwith='triad')"
   ]
  },
  {
   "cell_type": "code",
   "execution_count": null,
   "metadata": {},
   "outputs": [],
   "source": [
    "predicted_song"
   ]
  },
  {
   "cell_type": "code",
   "execution_count": null,
   "metadata": {},
   "outputs": [],
   "source": [
    "predicted_song.get_music21_repr().show()"
   ]
  },
  {
   "cell_type": "code",
   "execution_count": null,
   "metadata": {},
   "outputs": [],
   "source": [
    "predicted_song.get_music21_repr().show('midi')"
   ]
  },
  {
   "cell_type": "code",
   "execution_count": null,
   "metadata": {},
   "outputs": [],
   "source": []
  }
 ],
 "metadata": {
  "kernelspec": {
   "display_name": "Python 3",
   "language": "python",
   "name": "python3"
  },
  "language_info": {
   "codemirror_mode": {
    "name": "ipython",
    "version": 3
   },
   "file_extension": ".py",
   "mimetype": "text/x-python",
   "name": "python",
   "nbconvert_exporter": "python",
   "pygments_lexer": "ipython3",
   "version": "3.6.0"
  }
 },
 "nbformat": 4,
 "nbformat_minor": 2
}
