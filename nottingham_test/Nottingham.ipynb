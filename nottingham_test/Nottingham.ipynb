{
 "cells": [
  {
   "cell_type": "code",
   "execution_count": 3,
   "metadata": {},
   "outputs": [
    {
     "name": "stderr",
     "output_type": "stream",
     "text": [
      "/usr/local/lib/python3.5/dist-packages/sklearn/cross_validation.py:41: DeprecationWarning: This module was deprecated in version 0.18 in favor of the model_selection module into which all the refactored classes and functions are moved. Also note that the interface of the new CV iterators are different from that of this module. This module will be removed in 0.20.\n",
      "  \"This module will be removed in 0.20.\", DeprecationWarning)\n",
      "Using TensorFlow backend.\n"
     ]
    }
   ],
   "source": [
    "import pickle\n",
    "import numpy as np\n",
    "\n",
    "%matplotlib inline\n",
    "import matplotlib.pyplot as plt\n",
    "import seaborn as sns\n",
    "\n",
    "from sklearn.cross_validation import train_test_split\n",
    "from sklearn.linear_model import LogisticRegressionCV\n",
    "\n",
    "from keras.layers import LSTM\n",
    "from keras.layers import Embedding\n",
    "from keras.optimizers import RMSprop\n",
    "\n",
    "\n",
    "from keras.models import Sequential\n",
    "from keras.layers.core import Dense, Activation\n",
    "from keras.utils import np_utils\n",
    "\n",
    "from sklearn.metrics import accuracy_score\n",
    "\n",
    "\n",
    "import keras\n",
    "from keras.utils import to_categorical\n",
    "\n",
    "from matplotlib import pyplot as plt\n",
    "from IPython.display import clear_output"
   ]
  },
  {
   "cell_type": "code",
   "execution_count": 12,
   "metadata": {},
   "outputs": [],
   "source": [
    "y = np.load(\"y.npy\")\n",
    "X = np.load(\"X.npy\")"
   ]
  },
  {
   "cell_type": "code",
   "execution_count": 21,
   "metadata": {},
   "outputs": [
    {
     "name": "stdout",
     "output_type": "stream",
     "text": [
      "(10174, 56)\n",
      "(10174, 56)\n",
      "['a' 'am' 'b' 'bb' 'bm' 'c' 'cm' 'd' 'dm' 'e' 'eb' 'em' 'f' 'f#' 'f#m' 'g'\n",
      " 'gm']\n",
      "17\n",
      "Features: 56\n",
      "int64 int64\n",
      "[5 5 5 5 2 2 2 2 2 2 2 2 2 2 2 2 2 2 2 2 7 7 7 7 5 5 5 5 2 2 1 1 1 1 1 1 1\n",
      " 1 1 1 1 1 1 1 1 1 1 1 1 1 1 1 1 2 1 1]\n",
      "[]\n"
     ]
    }
   ],
   "source": [
    "els, counts = np.unique(y, return_counts=True)\n",
    "#plt.scatter(range(len(els)), counts)\n",
    "#plt.show()\n",
    "#print(els, counts)\n",
    "rare = els[counts < 10]\n",
    "\n",
    "isin = np.logical_not(np.isin(y, rare))\n",
    "print(X.shape)\n",
    "X = X[isin, :]\n",
    "print(X.shape)\n",
    "y = y[isin]\n",
    "\n",
    "els, counts = np.unique(y, return_counts=True)\n",
    "#plt.scatter(range(len(els)), counts)\n",
    "#plt.show()\n",
    "print(els)\n",
    "print(len(els))\n",
    "\n",
    "\n",
    "feat = X.shape[1]\n",
    "print(\"Features:\", feat)\n",
    "tst = np.array([1])\n",
    "print(tst.dtype, X.dtype)\n",
    "if X.dtype == tst.dtype:\n",
    "    num_features = np.zeros(feat, dtype='bool')\n",
    "else:\n",
    "    num_features = np.array(['0' <= X[0, i][0] <= '9' for i in range(feat)])\n",
    "cat_features = np.logical_not(num_features)\n",
    "\n",
    "\n",
    "#X_cat = X[:,8:16]\n",
    "#X_real = np.int_(np.hstack([X[:,:8], X[:,16:]]))\n",
    "\n",
    "X_cat = X[:,cat_features]\n",
    "X_real = np.int_(X[:,num_features])\n",
    "print(X_cat[0,:])\n",
    "print(X_real[0,:])\n",
    "from sklearn.preprocessing import LabelEncoder\n",
    "\n",
    "enc = LabelEncoder()\n",
    "enc.fit(X_cat.reshape(X_cat.size))\n",
    "for i in range(sum(cat_features)):\n",
    "    X_cat[:, i] = enc.transform(X_cat[:, i])\n",
    "\n",
    "X = np.hstack([np.int_(X_cat), X_real])"
   ]
  },
  {
   "cell_type": "code",
   "execution_count": 43,
   "metadata": {},
   "outputs": [],
   "source": [
    "chords = ['a', 'am', 'b', 'bb', 'bm', 'c', 'cm', 'd', 'dm', 'e', 'eb', 'em', 'f', 'f#', 'f#m', 'g', 'gm']"
   ]
  },
  {
   "cell_type": "code",
   "execution_count": 84,
   "metadata": {},
   "outputs": [],
   "source": [
    "coded_y = []\n",
    "\n",
    "for y_chord in y:\n",
    "    for i, chord in enumerate(chords):\n",
    "        if y_chord == chord:\n",
    "            coded_y.append(i)\n"
   ]
  },
  {
   "cell_type": "code",
   "execution_count": 47,
   "metadata": {},
   "outputs": [],
   "source": [
    "from sklearn.model_selection import train_test_split\n",
    "\n",
    "X_train, X_test, y_train, y_test = train_test_split(X, coded_y)"
   ]
  },
  {
   "cell_type": "code",
   "execution_count": 48,
   "metadata": {},
   "outputs": [],
   "source": [
    "class PlotLearning(keras.callbacks.Callback):\n",
    "    def on_train_begin(self, logs={}):\n",
    "        self.i = 0\n",
    "        self.x = []\n",
    "        self.losses = []\n",
    "        self.val_losses = []\n",
    "        self.acc = []\n",
    "        self.val_acc = []\n",
    "        self.fig = plt.figure()\n",
    "        \n",
    "        self.logs = []\n",
    "\n",
    "    def on_epoch_end(self, epoch, logs={}):\n",
    "        \n",
    "        self.logs.append(logs)\n",
    "        self.x.append(self.i)\n",
    "        self.losses.append(logs.get('loss'))\n",
    "        self.val_losses.append(logs.get('val_loss'))\n",
    "        self.acc.append(logs.get('acc'))\n",
    "        self.val_acc.append(logs.get('val_acc'))\n",
    "        self.i += 1\n",
    "        f, (ax1, ax2) = plt.subplots(1, 2, sharex=True)\n",
    "        \n",
    "        clear_output(wait=True)\n",
    "        \n",
    "        ax1.set_yscale('log')\n",
    "        ax1.plot(self.x, self.losses, label=\"loss\")\n",
    "        ax1.plot(self.x, self.val_losses, label=\"val_loss\")\n",
    "        ax1.legend()\n",
    "        \n",
    "        ax2.plot(self.x, self.acc, label=\"accuracy\")\n",
    "        ax2.plot(self.x, self.val_acc, label=\"validation accuracy\")\n",
    "        ax2.legend()\n",
    "        \n",
    "        plt.show();\n",
    "        \n",
    "plot = PlotLearning()"
   ]
  },
  {
   "cell_type": "code",
   "execution_count": 64,
   "metadata": {
    "scrolled": true
   },
   "outputs": [
    {
     "data": {
      "image/png": "[encoded data removed]",
      "text/plain": [
       "<matplotlib.figure.Figure at 0x7f4b584d1b38>"
      ]
     },
     "metadata": {},
     "output_type": "display_data"
    }
   ],
   "source": [
    "model = Sequential()\n",
    "model.add(Embedding(18, 20, input_length=56))\n",
    "model.add(LSTM(20))\n",
    "model.add(Dense(17, activation='softmax'))\n",
    "model.compile(optimizer='adam',loss='sparse_categorical_crossentropy',metrics=['accuracy'])\n",
    "model.fit(X_train, y_train, epochs=60, verbose=1, validation_data=(X_test, y_test), callbacks=[plot]);"
   ]
  },
  {
   "cell_type": "code",
   "execution_count": 83,
   "metadata": {},
   "outputs": [
    {
     "name": "stdout",
     "output_type": "stream",
     "text": [
      "0.39308176100628933\n"
     ]
    }
   ],
   "source": [
    "y_pred = model.predict(X_test).argmax(axis=1)\n",
    "\n",
    "print(accuracy_score(y_test, y_pred)) "
   ]
  }
 ],
 "metadata": {
  "kernelspec": {
   "display_name": "Python 3",
   "language": "python",
   "name": "python3"
  },
  "language_info": {
   "codemirror_mode": {
    "name": "ipython",
    "version": 3
   },
   "file_extension": ".py",
   "mimetype": "text/x-python",
   "name": "python",
   "nbconvert_exporter": "python",
   "pygments_lexer": "ipython3",
   "version": "3.5.2"
  }
 },
 "nbformat": 4,
 "nbformat_minor": 2
}
